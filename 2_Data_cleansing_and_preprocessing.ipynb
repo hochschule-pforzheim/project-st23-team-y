{
  "nbformat": 4,
  "nbformat_minor": 0,
  "metadata": {
    "colab": {
      "provenance": [],
      "gpuType": "V100",
      "authorship_tag": "ABX9TyOkPTiIE5b0yJL3sfG2NQFI",
      "include_colab_link": true
    },
    "kernelspec": {
      "name": "python3",
      "display_name": "Python 3"
    },
    "language_info": {
      "name": "python"
    },
    "accelerator": "GPU"
  },
  "cells": [
    {
      "cell_type": "markdown",
      "metadata": {
        "id": "view-in-github",
        "colab_type": "text"
      },
      "source": [
        "<a href=\"https://colab.research.google.com/github/hochschule-pforzheim/project-st23-team-y/blob/main/2_Data_cleansing_and_preprocessing.ipynb\" target=\"_parent\"><img src=\"https://colab.research.google.com/assets/colab-badge.svg\" alt=\"Open In Colab\"/></a>"
      ]
    },
    {
      "cell_type": "code",
      "execution_count": 1,
      "metadata": {
        "id": "vxyUucmlZEGM"
      },
      "outputs": [],
      "source": [
        "import pandas as pd\n",
        "import numpy as np"
      ]
    },
    {
      "cell_type": "markdown",
      "source": [
        "We read the dataset with the appended lyrics that we exported in Notebook 1"
      ],
      "metadata": {
        "id": "76Jupd_XZfU1"
      }
    },
    {
      "cell_type": "code",
      "source": [
        "data = pd.read_csv('sample_data/df_raw.csv')"
      ],
      "metadata": {
        "id": "TBN99w8LZf0E"
      },
      "execution_count": 2,
      "outputs": []
    },
    {
      "cell_type": "markdown",
      "source": [
        "Let's take a look:"
      ],
      "metadata": {
        "id": "LXZyCHSkZsxz"
      }
    },
    {
      "cell_type": "code",
      "source": [
        "data.describe()"
      ],
      "metadata": {
        "id": "PNs5RTNcZvcF",
        "outputId": "5965be30-6282-470b-974f-4a2d552b97e6",
        "colab": {
          "base_uri": "https://localhost:8080/",
          "height": 382
        }
      },
      "execution_count": 3,
      "outputs": [
        {
          "output_type": "execute_result",
          "data": {
            "text/plain": [
              "        Unnamed: 0.1     Unnamed: 0    popularity   duration_ms  danceability  \\\n",
              "count   10000.000000   10000.000000  10000.000000  1.000000e+04  10000.000000   \n",
              "mean    57020.715800   57020.715800     34.188600  2.211905e+05      0.583225   \n",
              "std     32056.224124   32056.224124     23.594061  9.045619e+04      0.160921   \n",
              "min        37.000000      37.000000      0.000000  3.039300e+04      0.000000   \n",
              "25%     30295.000000   30295.000000     16.000000  1.739470e+05      0.477000   \n",
              "50%     56515.000000   56515.000000     36.000000  2.104100e+05      0.592000   \n",
              "75%     84784.250000   84784.250000     53.000000  2.518695e+05      0.700000   \n",
              "max    113976.000000  113976.000000     98.000000  3.340672e+06      0.980000   \n",
              "\n",
              "             energy           key      loudness          mode   speechiness  \\\n",
              "count  10000.000000  10000.000000  10000.000000  10000.000000  10000.000000   \n",
              "mean       0.663517      5.277900     -7.331120      0.646200      0.089677   \n",
              "std        0.225899      3.589563      3.671507      0.478172      0.113400   \n",
              "min        0.000020      0.000000    -38.384000      0.000000      0.000000   \n",
              "25%        0.508000      2.000000     -9.039250      0.000000      0.035700   \n",
              "50%        0.697000      5.000000     -6.569000      1.000000      0.050000   \n",
              "75%        0.851000      8.000000     -4.824000      1.000000      0.090700   \n",
              "max        1.000000     11.000000      1.104000      1.000000      0.963000   \n",
              "\n",
              "       acousticness  instrumentalness      liveness       valence  \\\n",
              "count  10000.000000      10000.000000  10000.000000  10000.000000   \n",
              "mean       0.289442          0.025444      0.215624      0.506190   \n",
              "std        0.309431          0.079659      0.189913      0.248257   \n",
              "min        0.000000          0.000000      0.009250      0.000000   \n",
              "25%        0.018400          0.000000      0.098200      0.304000   \n",
              "50%        0.155000          0.000007      0.136000      0.499000   \n",
              "75%        0.535250          0.001472      0.280000      0.707000   \n",
              "max        0.995000          0.499000      0.997000      0.993000   \n",
              "\n",
              "              tempo  time_signature  \n",
              "count  10000.000000    10000.000000  \n",
              "mean     122.642298        3.917300  \n",
              "std       29.691128        0.393797  \n",
              "min        0.000000        0.000000  \n",
              "25%       99.852500        4.000000  \n",
              "50%      121.603500        4.000000  \n",
              "75%      141.870750        4.000000  \n",
              "max      216.558000        5.000000  "
            ],
            "text/html": [
              "\n",
              "  <div id=\"df-d90a64d5-cb64-4d2d-8ba9-dc3cdaf8459b\">\n",
              "    <div class=\"colab-df-container\">\n",
              "      <div>\n",
              "<style scoped>\n",
              "    .dataframe tbody tr th:only-of-type {\n",
              "        vertical-align: middle;\n",
              "    }\n",
              "\n",
              "    .dataframe tbody tr th {\n",
              "        vertical-align: top;\n",
              "    }\n",
              "\n",
              "    .dataframe thead th {\n",
              "        text-align: right;\n",
              "    }\n",
              "</style>\n",
              "<table border=\"1\" class=\"dataframe\">\n",
              "  <thead>\n",
              "    <tr style=\"text-align: right;\">\n",
              "      <th></th>\n",
              "      <th>Unnamed: 0.1</th>\n",
              "      <th>Unnamed: 0</th>\n",
              "      <th>popularity</th>\n",
              "      <th>duration_ms</th>\n",
              "      <th>danceability</th>\n",
              "      <th>energy</th>\n",
              "      <th>key</th>\n",
              "      <th>loudness</th>\n",
              "      <th>mode</th>\n",
              "      <th>speechiness</th>\n",
              "      <th>acousticness</th>\n",
              "      <th>instrumentalness</th>\n",
              "      <th>liveness</th>\n",
              "      <th>valence</th>\n",
              "      <th>tempo</th>\n",
              "      <th>time_signature</th>\n",
              "    </tr>\n",
              "  </thead>\n",
              "  <tbody>\n",
              "    <tr>\n",
              "      <th>count</th>\n",
              "      <td>10000.000000</td>\n",
              "      <td>10000.000000</td>\n",
              "      <td>10000.000000</td>\n",
              "      <td>1.000000e+04</td>\n",
              "      <td>10000.000000</td>\n",
              "      <td>10000.000000</td>\n",
              "      <td>10000.000000</td>\n",
              "      <td>10000.000000</td>\n",
              "      <td>10000.000000</td>\n",
              "      <td>10000.000000</td>\n",
              "      <td>10000.000000</td>\n",
              "      <td>10000.000000</td>\n",
              "      <td>10000.000000</td>\n",
              "      <td>10000.000000</td>\n",
              "      <td>10000.000000</td>\n",
              "      <td>10000.000000</td>\n",
              "    </tr>\n",
              "    <tr>\n",
              "      <th>mean</th>\n",
              "      <td>57020.715800</td>\n",
              "      <td>57020.715800</td>\n",
              "      <td>34.188600</td>\n",
              "      <td>2.211905e+05</td>\n",
              "      <td>0.583225</td>\n",
              "      <td>0.663517</td>\n",
              "      <td>5.277900</td>\n",
              "      <td>-7.331120</td>\n",
              "      <td>0.646200</td>\n",
              "      <td>0.089677</td>\n",
              "      <td>0.289442</td>\n",
              "      <td>0.025444</td>\n",
              "      <td>0.215624</td>\n",
              "      <td>0.506190</td>\n",
              "      <td>122.642298</td>\n",
              "      <td>3.917300</td>\n",
              "    </tr>\n",
              "    <tr>\n",
              "      <th>std</th>\n",
              "      <td>32056.224124</td>\n",
              "      <td>32056.224124</td>\n",
              "      <td>23.594061</td>\n",
              "      <td>9.045619e+04</td>\n",
              "      <td>0.160921</td>\n",
              "      <td>0.225899</td>\n",
              "      <td>3.589563</td>\n",
              "      <td>3.671507</td>\n",
              "      <td>0.478172</td>\n",
              "      <td>0.113400</td>\n",
              "      <td>0.309431</td>\n",
              "      <td>0.079659</td>\n",
              "      <td>0.189913</td>\n",
              "      <td>0.248257</td>\n",
              "      <td>29.691128</td>\n",
              "      <td>0.393797</td>\n",
              "    </tr>\n",
              "    <tr>\n",
              "      <th>min</th>\n",
              "      <td>37.000000</td>\n",
              "      <td>37.000000</td>\n",
              "      <td>0.000000</td>\n",
              "      <td>3.039300e+04</td>\n",
              "      <td>0.000000</td>\n",
              "      <td>0.000020</td>\n",
              "      <td>0.000000</td>\n",
              "      <td>-38.384000</td>\n",
              "      <td>0.000000</td>\n",
              "      <td>0.000000</td>\n",
              "      <td>0.000000</td>\n",
              "      <td>0.000000</td>\n",
              "      <td>0.009250</td>\n",
              "      <td>0.000000</td>\n",
              "      <td>0.000000</td>\n",
              "      <td>0.000000</td>\n",
              "    </tr>\n",
              "    <tr>\n",
              "      <th>25%</th>\n",
              "      <td>30295.000000</td>\n",
              "      <td>30295.000000</td>\n",
              "      <td>16.000000</td>\n",
              "      <td>1.739470e+05</td>\n",
              "      <td>0.477000</td>\n",
              "      <td>0.508000</td>\n",
              "      <td>2.000000</td>\n",
              "      <td>-9.039250</td>\n",
              "      <td>0.000000</td>\n",
              "      <td>0.035700</td>\n",
              "      <td>0.018400</td>\n",
              "      <td>0.000000</td>\n",
              "      <td>0.098200</td>\n",
              "      <td>0.304000</td>\n",
              "      <td>99.852500</td>\n",
              "      <td>4.000000</td>\n",
              "    </tr>\n",
              "    <tr>\n",
              "      <th>50%</th>\n",
              "      <td>56515.000000</td>\n",
              "      <td>56515.000000</td>\n",
              "      <td>36.000000</td>\n",
              "      <td>2.104100e+05</td>\n",
              "      <td>0.592000</td>\n",
              "      <td>0.697000</td>\n",
              "      <td>5.000000</td>\n",
              "      <td>-6.569000</td>\n",
              "      <td>1.000000</td>\n",
              "      <td>0.050000</td>\n",
              "      <td>0.155000</td>\n",
              "      <td>0.000007</td>\n",
              "      <td>0.136000</td>\n",
              "      <td>0.499000</td>\n",
              "      <td>121.603500</td>\n",
              "      <td>4.000000</td>\n",
              "    </tr>\n",
              "    <tr>\n",
              "      <th>75%</th>\n",
              "      <td>84784.250000</td>\n",
              "      <td>84784.250000</td>\n",
              "      <td>53.000000</td>\n",
              "      <td>2.518695e+05</td>\n",
              "      <td>0.700000</td>\n",
              "      <td>0.851000</td>\n",
              "      <td>8.000000</td>\n",
              "      <td>-4.824000</td>\n",
              "      <td>1.000000</td>\n",
              "      <td>0.090700</td>\n",
              "      <td>0.535250</td>\n",
              "      <td>0.001472</td>\n",
              "      <td>0.280000</td>\n",
              "      <td>0.707000</td>\n",
              "      <td>141.870750</td>\n",
              "      <td>4.000000</td>\n",
              "    </tr>\n",
              "    <tr>\n",
              "      <th>max</th>\n",
              "      <td>113976.000000</td>\n",
              "      <td>113976.000000</td>\n",
              "      <td>98.000000</td>\n",
              "      <td>3.340672e+06</td>\n",
              "      <td>0.980000</td>\n",
              "      <td>1.000000</td>\n",
              "      <td>11.000000</td>\n",
              "      <td>1.104000</td>\n",
              "      <td>1.000000</td>\n",
              "      <td>0.963000</td>\n",
              "      <td>0.995000</td>\n",
              "      <td>0.499000</td>\n",
              "      <td>0.997000</td>\n",
              "      <td>0.993000</td>\n",
              "      <td>216.558000</td>\n",
              "      <td>5.000000</td>\n",
              "    </tr>\n",
              "  </tbody>\n",
              "</table>\n",
              "</div>\n",
              "      <button class=\"colab-df-convert\" onclick=\"convertToInteractive('df-d90a64d5-cb64-4d2d-8ba9-dc3cdaf8459b')\"\n",
              "              title=\"Convert this dataframe to an interactive table.\"\n",
              "              style=\"display:none;\">\n",
              "        \n",
              "  <svg xmlns=\"http://www.w3.org/2000/svg\" height=\"24px\"viewBox=\"0 0 24 24\"\n",
              "       width=\"24px\">\n",
              "    <path d=\"M0 0h24v24H0V0z\" fill=\"none\"/>\n",
              "    <path d=\"M18.56 5.44l.94 2.06.94-2.06 2.06-.94-2.06-.94-.94-2.06-.94 2.06-2.06.94zm-11 1L8.5 8.5l.94-2.06 2.06-.94-2.06-.94L8.5 2.5l-.94 2.06-2.06.94zm10 10l.94 2.06.94-2.06 2.06-.94-2.06-.94-.94-2.06-.94 2.06-2.06.94z\"/><path d=\"M17.41 7.96l-1.37-1.37c-.4-.4-.92-.59-1.43-.59-.52 0-1.04.2-1.43.59L10.3 9.45l-7.72 7.72c-.78.78-.78 2.05 0 2.83L4 21.41c.39.39.9.59 1.41.59.51 0 1.02-.2 1.41-.59l7.78-7.78 2.81-2.81c.8-.78.8-2.07 0-2.86zM5.41 20L4 18.59l7.72-7.72 1.47 1.35L5.41 20z\"/>\n",
              "  </svg>\n",
              "      </button>\n",
              "      \n",
              "  <style>\n",
              "    .colab-df-container {\n",
              "      display:flex;\n",
              "      flex-wrap:wrap;\n",
              "      gap: 12px;\n",
              "    }\n",
              "\n",
              "    .colab-df-convert {\n",
              "      background-color: #E8F0FE;\n",
              "      border: none;\n",
              "      border-radius: 50%;\n",
              "      cursor: pointer;\n",
              "      display: none;\n",
              "      fill: #1967D2;\n",
              "      height: 32px;\n",
              "      padding: 0 0 0 0;\n",
              "      width: 32px;\n",
              "    }\n",
              "\n",
              "    .colab-df-convert:hover {\n",
              "      background-color: #E2EBFA;\n",
              "      box-shadow: 0px 1px 2px rgba(60, 64, 67, 0.3), 0px 1px 3px 1px rgba(60, 64, 67, 0.15);\n",
              "      fill: #174EA6;\n",
              "    }\n",
              "\n",
              "    [theme=dark] .colab-df-convert {\n",
              "      background-color: #3B4455;\n",
              "      fill: #D2E3FC;\n",
              "    }\n",
              "\n",
              "    [theme=dark] .colab-df-convert:hover {\n",
              "      background-color: #434B5C;\n",
              "      box-shadow: 0px 1px 3px 1px rgba(0, 0, 0, 0.15);\n",
              "      filter: drop-shadow(0px 1px 2px rgba(0, 0, 0, 0.3));\n",
              "      fill: #FFFFFF;\n",
              "    }\n",
              "  </style>\n",
              "\n",
              "      <script>\n",
              "        const buttonEl =\n",
              "          document.querySelector('#df-d90a64d5-cb64-4d2d-8ba9-dc3cdaf8459b button.colab-df-convert');\n",
              "        buttonEl.style.display =\n",
              "          google.colab.kernel.accessAllowed ? 'block' : 'none';\n",
              "\n",
              "        async function convertToInteractive(key) {\n",
              "          const element = document.querySelector('#df-d90a64d5-cb64-4d2d-8ba9-dc3cdaf8459b');\n",
              "          const dataTable =\n",
              "            await google.colab.kernel.invokeFunction('convertToInteractive',\n",
              "                                                     [key], {});\n",
              "          if (!dataTable) return;\n",
              "\n",
              "          const docLinkHtml = 'Like what you see? Visit the ' +\n",
              "            '<a target=\"_blank\" href=https://colab.research.google.com/notebooks/data_table.ipynb>data table notebook</a>'\n",
              "            + ' to learn more about interactive tables.';\n",
              "          element.innerHTML = '';\n",
              "          dataTable['output_type'] = 'display_data';\n",
              "          await google.colab.output.renderOutput(dataTable, element);\n",
              "          const docLink = document.createElement('div');\n",
              "          docLink.innerHTML = docLinkHtml;\n",
              "          element.appendChild(docLink);\n",
              "        }\n",
              "      </script>\n",
              "    </div>\n",
              "  </div>\n",
              "  "
            ]
          },
          "metadata": {},
          "execution_count": 3
        }
      ]
    },
    {
      "cell_type": "code",
      "source": [
        "data.head()"
      ],
      "metadata": {
        "id": "z3nJpmMQZ65a",
        "outputId": "69b05aaf-96f9-4055-ef6e-3d18d19d6f48",
        "colab": {
          "base_uri": "https://localhost:8080/",
          "height": 508
        }
      },
      "execution_count": 4,
      "outputs": [
        {
          "output_type": "execute_result",
          "data": {
            "text/plain": [
              "   Unnamed: 0.1  Unnamed: 0                track_id  \\\n",
              "0         57971       57971  57TrQP3nPUoc92VsooFB7p   \n",
              "1         95765       95765  3VahwVqIK9f0S5H4Rp8Zjp   \n",
              "2         29375       29375  7kCgycosmwcfZJmbXRseEa   \n",
              "3         34067       34067  40riOy7x9W7GXjyGp4pjAv   \n",
              "4          7284        7284  1hoambC4hKUiVx4lM7VSIp   \n",
              "\n",
              "                      artists                        album_name  \\\n",
              "0         When Chai Met Toast                           Kahaani   \n",
              "1      Mr Black El Presidente                          El Clavo   \n",
              "2       Culture Code;Elle Vee   Make A Promise (feat. Elle Vee)   \n",
              "3                      Eagles  Hotel California (2013 Remaster)   \n",
              "4  The Infamous Stringdusters                   Toward the Fray   \n",
              "\n",
              "                         track_name  popularity  duration_ms  explicit  \\\n",
              "0                           Kahaani          41       215173     False   \n",
              "1                          El Clavo          29       262750     False   \n",
              "2   Make A Promise (feat. Elle Vee)          36       295909     False   \n",
              "3  Hotel California - 2013 Remaster          84       391376     False   \n",
              "4                         Hard Line          25       220706     False   \n",
              "\n",
              "   danceability  ...  speechiness  acousticness  instrumentalness  liveness  \\\n",
              "0         0.596  ...       0.0255       0.90000          0.050300    0.1080   \n",
              "1         0.873  ...       0.2430       0.24800          0.000000    0.0836   \n",
              "2         0.437  ...       0.0428       0.33200          0.000000    0.1420   \n",
              "3         0.579  ...       0.0270       0.00574          0.000494    0.0575   \n",
              "4         0.544  ...       0.0308       0.31500          0.000708    0.3070   \n",
              "\n",
              "   valence    tempo  time_signature  track_genre  is_english  \\\n",
              "0    0.430   94.932               4        indie        True   \n",
              "1    0.653   80.981               3        salsa        True   \n",
              "2    0.275  176.025               4      dubstep        True   \n",
              "3    0.609  147.125               4         folk        True   \n",
              "4    0.732  114.705               4    bluegrass        True   \n",
              "\n",
              "                                              lyrics  \n",
              "0  5 ContributorsTranslationsEnglishKahaani Lyric...  \n",
              "1  1 ContributorEl Clavo LyricsEste es el remix, ...  \n",
              "2  5 ContributorsMake a Promise Lyrics[Verse 1]\\n...  \n",
              "3  1 ContributorEagles - Hotel California (2013 R...  \n",
              "4  1 ContributorHard Line LyricsTell me what you’...  \n",
              "\n",
              "[5 rows x 24 columns]"
            ],
            "text/html": [
              "\n",
              "  <div id=\"df-1be1addf-5c83-4353-8323-18aadbadf979\">\n",
              "    <div class=\"colab-df-container\">\n",
              "      <div>\n",
              "<style scoped>\n",
              "    .dataframe tbody tr th:only-of-type {\n",
              "        vertical-align: middle;\n",
              "    }\n",
              "\n",
              "    .dataframe tbody tr th {\n",
              "        vertical-align: top;\n",
              "    }\n",
              "\n",
              "    .dataframe thead th {\n",
              "        text-align: right;\n",
              "    }\n",
              "</style>\n",
              "<table border=\"1\" class=\"dataframe\">\n",
              "  <thead>\n",
              "    <tr style=\"text-align: right;\">\n",
              "      <th></th>\n",
              "      <th>Unnamed: 0.1</th>\n",
              "      <th>Unnamed: 0</th>\n",
              "      <th>track_id</th>\n",
              "      <th>artists</th>\n",
              "      <th>album_name</th>\n",
              "      <th>track_name</th>\n",
              "      <th>popularity</th>\n",
              "      <th>duration_ms</th>\n",
              "      <th>explicit</th>\n",
              "      <th>danceability</th>\n",
              "      <th>...</th>\n",
              "      <th>speechiness</th>\n",
              "      <th>acousticness</th>\n",
              "      <th>instrumentalness</th>\n",
              "      <th>liveness</th>\n",
              "      <th>valence</th>\n",
              "      <th>tempo</th>\n",
              "      <th>time_signature</th>\n",
              "      <th>track_genre</th>\n",
              "      <th>is_english</th>\n",
              "      <th>lyrics</th>\n",
              "    </tr>\n",
              "  </thead>\n",
              "  <tbody>\n",
              "    <tr>\n",
              "      <th>0</th>\n",
              "      <td>57971</td>\n",
              "      <td>57971</td>\n",
              "      <td>57TrQP3nPUoc92VsooFB7p</td>\n",
              "      <td>When Chai Met Toast</td>\n",
              "      <td>Kahaani</td>\n",
              "      <td>Kahaani</td>\n",
              "      <td>41</td>\n",
              "      <td>215173</td>\n",
              "      <td>False</td>\n",
              "      <td>0.596</td>\n",
              "      <td>...</td>\n",
              "      <td>0.0255</td>\n",
              "      <td>0.90000</td>\n",
              "      <td>0.050300</td>\n",
              "      <td>0.1080</td>\n",
              "      <td>0.430</td>\n",
              "      <td>94.932</td>\n",
              "      <td>4</td>\n",
              "      <td>indie</td>\n",
              "      <td>True</td>\n",
              "      <td>5 ContributorsTranslationsEnglishKahaani Lyric...</td>\n",
              "    </tr>\n",
              "    <tr>\n",
              "      <th>1</th>\n",
              "      <td>95765</td>\n",
              "      <td>95765</td>\n",
              "      <td>3VahwVqIK9f0S5H4Rp8Zjp</td>\n",
              "      <td>Mr Black El Presidente</td>\n",
              "      <td>El Clavo</td>\n",
              "      <td>El Clavo</td>\n",
              "      <td>29</td>\n",
              "      <td>262750</td>\n",
              "      <td>False</td>\n",
              "      <td>0.873</td>\n",
              "      <td>...</td>\n",
              "      <td>0.2430</td>\n",
              "      <td>0.24800</td>\n",
              "      <td>0.000000</td>\n",
              "      <td>0.0836</td>\n",
              "      <td>0.653</td>\n",
              "      <td>80.981</td>\n",
              "      <td>3</td>\n",
              "      <td>salsa</td>\n",
              "      <td>True</td>\n",
              "      <td>1 ContributorEl Clavo LyricsEste es el remix, ...</td>\n",
              "    </tr>\n",
              "    <tr>\n",
              "      <th>2</th>\n",
              "      <td>29375</td>\n",
              "      <td>29375</td>\n",
              "      <td>7kCgycosmwcfZJmbXRseEa</td>\n",
              "      <td>Culture Code;Elle Vee</td>\n",
              "      <td>Make A Promise (feat. Elle Vee)</td>\n",
              "      <td>Make A Promise (feat. Elle Vee)</td>\n",
              "      <td>36</td>\n",
              "      <td>295909</td>\n",
              "      <td>False</td>\n",
              "      <td>0.437</td>\n",
              "      <td>...</td>\n",
              "      <td>0.0428</td>\n",
              "      <td>0.33200</td>\n",
              "      <td>0.000000</td>\n",
              "      <td>0.1420</td>\n",
              "      <td>0.275</td>\n",
              "      <td>176.025</td>\n",
              "      <td>4</td>\n",
              "      <td>dubstep</td>\n",
              "      <td>True</td>\n",
              "      <td>5 ContributorsMake a Promise Lyrics[Verse 1]\\n...</td>\n",
              "    </tr>\n",
              "    <tr>\n",
              "      <th>3</th>\n",
              "      <td>34067</td>\n",
              "      <td>34067</td>\n",
              "      <td>40riOy7x9W7GXjyGp4pjAv</td>\n",
              "      <td>Eagles</td>\n",
              "      <td>Hotel California (2013 Remaster)</td>\n",
              "      <td>Hotel California - 2013 Remaster</td>\n",
              "      <td>84</td>\n",
              "      <td>391376</td>\n",
              "      <td>False</td>\n",
              "      <td>0.579</td>\n",
              "      <td>...</td>\n",
              "      <td>0.0270</td>\n",
              "      <td>0.00574</td>\n",
              "      <td>0.000494</td>\n",
              "      <td>0.0575</td>\n",
              "      <td>0.609</td>\n",
              "      <td>147.125</td>\n",
              "      <td>4</td>\n",
              "      <td>folk</td>\n",
              "      <td>True</td>\n",
              "      <td>1 ContributorEagles - Hotel California (2013 R...</td>\n",
              "    </tr>\n",
              "    <tr>\n",
              "      <th>4</th>\n",
              "      <td>7284</td>\n",
              "      <td>7284</td>\n",
              "      <td>1hoambC4hKUiVx4lM7VSIp</td>\n",
              "      <td>The Infamous Stringdusters</td>\n",
              "      <td>Toward the Fray</td>\n",
              "      <td>Hard Line</td>\n",
              "      <td>25</td>\n",
              "      <td>220706</td>\n",
              "      <td>False</td>\n",
              "      <td>0.544</td>\n",
              "      <td>...</td>\n",
              "      <td>0.0308</td>\n",
              "      <td>0.31500</td>\n",
              "      <td>0.000708</td>\n",
              "      <td>0.3070</td>\n",
              "      <td>0.732</td>\n",
              "      <td>114.705</td>\n",
              "      <td>4</td>\n",
              "      <td>bluegrass</td>\n",
              "      <td>True</td>\n",
              "      <td>1 ContributorHard Line LyricsTell me what you’...</td>\n",
              "    </tr>\n",
              "  </tbody>\n",
              "</table>\n",
              "<p>5 rows × 24 columns</p>\n",
              "</div>\n",
              "      <button class=\"colab-df-convert\" onclick=\"convertToInteractive('df-1be1addf-5c83-4353-8323-18aadbadf979')\"\n",
              "              title=\"Convert this dataframe to an interactive table.\"\n",
              "              style=\"display:none;\">\n",
              "        \n",
              "  <svg xmlns=\"http://www.w3.org/2000/svg\" height=\"24px\"viewBox=\"0 0 24 24\"\n",
              "       width=\"24px\">\n",
              "    <path d=\"M0 0h24v24H0V0z\" fill=\"none\"/>\n",
              "    <path d=\"M18.56 5.44l.94 2.06.94-2.06 2.06-.94-2.06-.94-.94-2.06-.94 2.06-2.06.94zm-11 1L8.5 8.5l.94-2.06 2.06-.94-2.06-.94L8.5 2.5l-.94 2.06-2.06.94zm10 10l.94 2.06.94-2.06 2.06-.94-2.06-.94-.94-2.06-.94 2.06-2.06.94z\"/><path d=\"M17.41 7.96l-1.37-1.37c-.4-.4-.92-.59-1.43-.59-.52 0-1.04.2-1.43.59L10.3 9.45l-7.72 7.72c-.78.78-.78 2.05 0 2.83L4 21.41c.39.39.9.59 1.41.59.51 0 1.02-.2 1.41-.59l7.78-7.78 2.81-2.81c.8-.78.8-2.07 0-2.86zM5.41 20L4 18.59l7.72-7.72 1.47 1.35L5.41 20z\"/>\n",
              "  </svg>\n",
              "      </button>\n",
              "      \n",
              "  <style>\n",
              "    .colab-df-container {\n",
              "      display:flex;\n",
              "      flex-wrap:wrap;\n",
              "      gap: 12px;\n",
              "    }\n",
              "\n",
              "    .colab-df-convert {\n",
              "      background-color: #E8F0FE;\n",
              "      border: none;\n",
              "      border-radius: 50%;\n",
              "      cursor: pointer;\n",
              "      display: none;\n",
              "      fill: #1967D2;\n",
              "      height: 32px;\n",
              "      padding: 0 0 0 0;\n",
              "      width: 32px;\n",
              "    }\n",
              "\n",
              "    .colab-df-convert:hover {\n",
              "      background-color: #E2EBFA;\n",
              "      box-shadow: 0px 1px 2px rgba(60, 64, 67, 0.3), 0px 1px 3px 1px rgba(60, 64, 67, 0.15);\n",
              "      fill: #174EA6;\n",
              "    }\n",
              "\n",
              "    [theme=dark] .colab-df-convert {\n",
              "      background-color: #3B4455;\n",
              "      fill: #D2E3FC;\n",
              "    }\n",
              "\n",
              "    [theme=dark] .colab-df-convert:hover {\n",
              "      background-color: #434B5C;\n",
              "      box-shadow: 0px 1px 3px 1px rgba(0, 0, 0, 0.15);\n",
              "      filter: drop-shadow(0px 1px 2px rgba(0, 0, 0, 0.3));\n",
              "      fill: #FFFFFF;\n",
              "    }\n",
              "  </style>\n",
              "\n",
              "      <script>\n",
              "        const buttonEl =\n",
              "          document.querySelector('#df-1be1addf-5c83-4353-8323-18aadbadf979 button.colab-df-convert');\n",
              "        buttonEl.style.display =\n",
              "          google.colab.kernel.accessAllowed ? 'block' : 'none';\n",
              "\n",
              "        async function convertToInteractive(key) {\n",
              "          const element = document.querySelector('#df-1be1addf-5c83-4353-8323-18aadbadf979');\n",
              "          const dataTable =\n",
              "            await google.colab.kernel.invokeFunction('convertToInteractive',\n",
              "                                                     [key], {});\n",
              "          if (!dataTable) return;\n",
              "\n",
              "          const docLinkHtml = 'Like what you see? Visit the ' +\n",
              "            '<a target=\"_blank\" href=https://colab.research.google.com/notebooks/data_table.ipynb>data table notebook</a>'\n",
              "            + ' to learn more about interactive tables.';\n",
              "          element.innerHTML = '';\n",
              "          dataTable['output_type'] = 'display_data';\n",
              "          await google.colab.output.renderOutput(dataTable, element);\n",
              "          const docLink = document.createElement('div');\n",
              "          docLink.innerHTML = docLinkHtml;\n",
              "          element.appendChild(docLink);\n",
              "        }\n",
              "      </script>\n",
              "    </div>\n",
              "  </div>\n",
              "  "
            ]
          },
          "metadata": {},
          "execution_count": 4
        }
      ]
    },
    {
      "cell_type": "markdown",
      "source": [
        "Now we want to see the NA's:"
      ],
      "metadata": {
        "id": "gRBgTFnRa0HH"
      }
    },
    {
      "cell_type": "code",
      "source": [
        "data.isna().sum()"
      ],
      "metadata": {
        "id": "K8CIed6AazTU",
        "outputId": "f111c869-7dae-4154-999d-b9503557bd92",
        "colab": {
          "base_uri": "https://localhost:8080/"
        }
      },
      "execution_count": 5,
      "outputs": [
        {
          "output_type": "execute_result",
          "data": {
            "text/plain": [
              "Unnamed: 0.1           0\n",
              "Unnamed: 0             0\n",
              "track_id               0\n",
              "artists                0\n",
              "album_name             0\n",
              "track_name             0\n",
              "popularity             0\n",
              "duration_ms            0\n",
              "explicit               0\n",
              "danceability           0\n",
              "energy                 0\n",
              "key                    0\n",
              "loudness               0\n",
              "mode                   0\n",
              "speechiness            0\n",
              "acousticness           0\n",
              "instrumentalness       0\n",
              "liveness               0\n",
              "valence                0\n",
              "tempo                  0\n",
              "time_signature         0\n",
              "track_genre            0\n",
              "is_english             0\n",
              "lyrics              2381\n",
              "dtype: int64"
            ]
          },
          "metadata": {},
          "execution_count": 5
        }
      ]
    },
    {
      "cell_type": "markdown",
      "source": [
        "As we can see, our genius.com search resultet in around 3/4 of songs getting their lyrics appended. We want to drop all other songs:"
      ],
      "metadata": {
        "id": "ERpJzUuFaz4S"
      }
    },
    {
      "cell_type": "code",
      "source": [
        "data = data.dropna()\n"
      ],
      "metadata": {
        "id": "qs4CTZN6a6HQ"
      },
      "execution_count": 6,
      "outputs": []
    },
    {
      "cell_type": "code",
      "source": [
        "data.describe()\n"
      ],
      "metadata": {
        "id": "W9V7aQgma9Nb",
        "outputId": "ca406ced-d741-4044-bbbb-dd1b7adb080d",
        "colab": {
          "base_uri": "https://localhost:8080/",
          "height": 382
        }
      },
      "execution_count": 7,
      "outputs": [
        {
          "output_type": "execute_result",
          "data": {
            "text/plain": [
              "        Unnamed: 0.1     Unnamed: 0   popularity   duration_ms  danceability  \\\n",
              "count    7619.000000    7619.000000  7619.000000  7.619000e+03   7619.000000   \n",
              "mean    56219.463447   56219.463447    34.360284  2.164969e+05      0.583686   \n",
              "std     32290.187101   32290.187101    25.059022  7.407244e+04      0.159594   \n",
              "min        37.000000      37.000000     0.000000  3.039300e+04      0.000000   \n",
              "25%     29602.500000   29602.500000    10.000000  1.734265e+05      0.477000   \n",
              "50%     55591.000000   55591.000000    37.000000  2.085000e+05      0.592000   \n",
              "75%     84817.000000   84817.000000    55.000000  2.450200e+05      0.699000   \n",
              "max    113976.000000  113976.000000    98.000000  1.556883e+06      0.980000   \n",
              "\n",
              "            energy          key     loudness         mode  speechiness  \\\n",
              "count  7619.000000  7619.000000  7619.000000  7619.000000  7619.000000   \n",
              "mean      0.674377     5.300696    -7.056126     0.653104     0.087828   \n",
              "std       0.218855     3.588474     3.343030     0.476014     0.107538   \n",
              "min       0.000020     0.000000   -32.801000     0.000000     0.000000   \n",
              "25%       0.526000     2.000000    -8.732000     0.000000     0.035500   \n",
              "50%       0.704000     5.000000    -6.355000     1.000000     0.050100   \n",
              "75%       0.855000     8.000000    -4.727500     1.000000     0.089950   \n",
              "max       0.999000    11.000000     1.023000     1.000000     0.963000   \n",
              "\n",
              "       acousticness  instrumentalness     liveness      valence        tempo  \\\n",
              "count   7619.000000       7619.000000  7619.000000  7619.000000  7619.000000   \n",
              "mean       0.259176          0.023093     0.203312     0.506258   122.961702   \n",
              "std        0.295218          0.075322     0.172093     0.244622    29.871055   \n",
              "min        0.000001          0.000000     0.009250     0.000000     0.000000   \n",
              "25%        0.014100          0.000000     0.097200     0.307000    99.939000   \n",
              "50%        0.123000          0.000007     0.134000     0.498000   121.978000   \n",
              "75%        0.457000          0.001150     0.261000     0.704000   142.083500   \n",
              "max        0.995000          0.498000     0.997000     0.993000   216.334000   \n",
              "\n",
              "       time_signature  \n",
              "count     7619.000000  \n",
              "mean         3.930437  \n",
              "std          0.346215  \n",
              "min          0.000000  \n",
              "25%          4.000000  \n",
              "50%          4.000000  \n",
              "75%          4.000000  \n",
              "max          5.000000  "
            ],
            "text/html": [
              "\n",
              "  <div id=\"df-dde4e187-e7d1-4acc-8dd1-a1fce7c51203\">\n",
              "    <div class=\"colab-df-container\">\n",
              "      <div>\n",
              "<style scoped>\n",
              "    .dataframe tbody tr th:only-of-type {\n",
              "        vertical-align: middle;\n",
              "    }\n",
              "\n",
              "    .dataframe tbody tr th {\n",
              "        vertical-align: top;\n",
              "    }\n",
              "\n",
              "    .dataframe thead th {\n",
              "        text-align: right;\n",
              "    }\n",
              "</style>\n",
              "<table border=\"1\" class=\"dataframe\">\n",
              "  <thead>\n",
              "    <tr style=\"text-align: right;\">\n",
              "      <th></th>\n",
              "      <th>Unnamed: 0.1</th>\n",
              "      <th>Unnamed: 0</th>\n",
              "      <th>popularity</th>\n",
              "      <th>duration_ms</th>\n",
              "      <th>danceability</th>\n",
              "      <th>energy</th>\n",
              "      <th>key</th>\n",
              "      <th>loudness</th>\n",
              "      <th>mode</th>\n",
              "      <th>speechiness</th>\n",
              "      <th>acousticness</th>\n",
              "      <th>instrumentalness</th>\n",
              "      <th>liveness</th>\n",
              "      <th>valence</th>\n",
              "      <th>tempo</th>\n",
              "      <th>time_signature</th>\n",
              "    </tr>\n",
              "  </thead>\n",
              "  <tbody>\n",
              "    <tr>\n",
              "      <th>count</th>\n",
              "      <td>7619.000000</td>\n",
              "      <td>7619.000000</td>\n",
              "      <td>7619.000000</td>\n",
              "      <td>7.619000e+03</td>\n",
              "      <td>7619.000000</td>\n",
              "      <td>7619.000000</td>\n",
              "      <td>7619.000000</td>\n",
              "      <td>7619.000000</td>\n",
              "      <td>7619.000000</td>\n",
              "      <td>7619.000000</td>\n",
              "      <td>7619.000000</td>\n",
              "      <td>7619.000000</td>\n",
              "      <td>7619.000000</td>\n",
              "      <td>7619.000000</td>\n",
              "      <td>7619.000000</td>\n",
              "      <td>7619.000000</td>\n",
              "    </tr>\n",
              "    <tr>\n",
              "      <th>mean</th>\n",
              "      <td>56219.463447</td>\n",
              "      <td>56219.463447</td>\n",
              "      <td>34.360284</td>\n",
              "      <td>2.164969e+05</td>\n",
              "      <td>0.583686</td>\n",
              "      <td>0.674377</td>\n",
              "      <td>5.300696</td>\n",
              "      <td>-7.056126</td>\n",
              "      <td>0.653104</td>\n",
              "      <td>0.087828</td>\n",
              "      <td>0.259176</td>\n",
              "      <td>0.023093</td>\n",
              "      <td>0.203312</td>\n",
              "      <td>0.506258</td>\n",
              "      <td>122.961702</td>\n",
              "      <td>3.930437</td>\n",
              "    </tr>\n",
              "    <tr>\n",
              "      <th>std</th>\n",
              "      <td>32290.187101</td>\n",
              "      <td>32290.187101</td>\n",
              "      <td>25.059022</td>\n",
              "      <td>7.407244e+04</td>\n",
              "      <td>0.159594</td>\n",
              "      <td>0.218855</td>\n",
              "      <td>3.588474</td>\n",
              "      <td>3.343030</td>\n",
              "      <td>0.476014</td>\n",
              "      <td>0.107538</td>\n",
              "      <td>0.295218</td>\n",
              "      <td>0.075322</td>\n",
              "      <td>0.172093</td>\n",
              "      <td>0.244622</td>\n",
              "      <td>29.871055</td>\n",
              "      <td>0.346215</td>\n",
              "    </tr>\n",
              "    <tr>\n",
              "      <th>min</th>\n",
              "      <td>37.000000</td>\n",
              "      <td>37.000000</td>\n",
              "      <td>0.000000</td>\n",
              "      <td>3.039300e+04</td>\n",
              "      <td>0.000000</td>\n",
              "      <td>0.000020</td>\n",
              "      <td>0.000000</td>\n",
              "      <td>-32.801000</td>\n",
              "      <td>0.000000</td>\n",
              "      <td>0.000000</td>\n",
              "      <td>0.000001</td>\n",
              "      <td>0.000000</td>\n",
              "      <td>0.009250</td>\n",
              "      <td>0.000000</td>\n",
              "      <td>0.000000</td>\n",
              "      <td>0.000000</td>\n",
              "    </tr>\n",
              "    <tr>\n",
              "      <th>25%</th>\n",
              "      <td>29602.500000</td>\n",
              "      <td>29602.500000</td>\n",
              "      <td>10.000000</td>\n",
              "      <td>1.734265e+05</td>\n",
              "      <td>0.477000</td>\n",
              "      <td>0.526000</td>\n",
              "      <td>2.000000</td>\n",
              "      <td>-8.732000</td>\n",
              "      <td>0.000000</td>\n",
              "      <td>0.035500</td>\n",
              "      <td>0.014100</td>\n",
              "      <td>0.000000</td>\n",
              "      <td>0.097200</td>\n",
              "      <td>0.307000</td>\n",
              "      <td>99.939000</td>\n",
              "      <td>4.000000</td>\n",
              "    </tr>\n",
              "    <tr>\n",
              "      <th>50%</th>\n",
              "      <td>55591.000000</td>\n",
              "      <td>55591.000000</td>\n",
              "      <td>37.000000</td>\n",
              "      <td>2.085000e+05</td>\n",
              "      <td>0.592000</td>\n",
              "      <td>0.704000</td>\n",
              "      <td>5.000000</td>\n",
              "      <td>-6.355000</td>\n",
              "      <td>1.000000</td>\n",
              "      <td>0.050100</td>\n",
              "      <td>0.123000</td>\n",
              "      <td>0.000007</td>\n",
              "      <td>0.134000</td>\n",
              "      <td>0.498000</td>\n",
              "      <td>121.978000</td>\n",
              "      <td>4.000000</td>\n",
              "    </tr>\n",
              "    <tr>\n",
              "      <th>75%</th>\n",
              "      <td>84817.000000</td>\n",
              "      <td>84817.000000</td>\n",
              "      <td>55.000000</td>\n",
              "      <td>2.450200e+05</td>\n",
              "      <td>0.699000</td>\n",
              "      <td>0.855000</td>\n",
              "      <td>8.000000</td>\n",
              "      <td>-4.727500</td>\n",
              "      <td>1.000000</td>\n",
              "      <td>0.089950</td>\n",
              "      <td>0.457000</td>\n",
              "      <td>0.001150</td>\n",
              "      <td>0.261000</td>\n",
              "      <td>0.704000</td>\n",
              "      <td>142.083500</td>\n",
              "      <td>4.000000</td>\n",
              "    </tr>\n",
              "    <tr>\n",
              "      <th>max</th>\n",
              "      <td>113976.000000</td>\n",
              "      <td>113976.000000</td>\n",
              "      <td>98.000000</td>\n",
              "      <td>1.556883e+06</td>\n",
              "      <td>0.980000</td>\n",
              "      <td>0.999000</td>\n",
              "      <td>11.000000</td>\n",
              "      <td>1.023000</td>\n",
              "      <td>1.000000</td>\n",
              "      <td>0.963000</td>\n",
              "      <td>0.995000</td>\n",
              "      <td>0.498000</td>\n",
              "      <td>0.997000</td>\n",
              "      <td>0.993000</td>\n",
              "      <td>216.334000</td>\n",
              "      <td>5.000000</td>\n",
              "    </tr>\n",
              "  </tbody>\n",
              "</table>\n",
              "</div>\n",
              "      <button class=\"colab-df-convert\" onclick=\"convertToInteractive('df-dde4e187-e7d1-4acc-8dd1-a1fce7c51203')\"\n",
              "              title=\"Convert this dataframe to an interactive table.\"\n",
              "              style=\"display:none;\">\n",
              "        \n",
              "  <svg xmlns=\"http://www.w3.org/2000/svg\" height=\"24px\"viewBox=\"0 0 24 24\"\n",
              "       width=\"24px\">\n",
              "    <path d=\"M0 0h24v24H0V0z\" fill=\"none\"/>\n",
              "    <path d=\"M18.56 5.44l.94 2.06.94-2.06 2.06-.94-2.06-.94-.94-2.06-.94 2.06-2.06.94zm-11 1L8.5 8.5l.94-2.06 2.06-.94-2.06-.94L8.5 2.5l-.94 2.06-2.06.94zm10 10l.94 2.06.94-2.06 2.06-.94-2.06-.94-.94-2.06-.94 2.06-2.06.94z\"/><path d=\"M17.41 7.96l-1.37-1.37c-.4-.4-.92-.59-1.43-.59-.52 0-1.04.2-1.43.59L10.3 9.45l-7.72 7.72c-.78.78-.78 2.05 0 2.83L4 21.41c.39.39.9.59 1.41.59.51 0 1.02-.2 1.41-.59l7.78-7.78 2.81-2.81c.8-.78.8-2.07 0-2.86zM5.41 20L4 18.59l7.72-7.72 1.47 1.35L5.41 20z\"/>\n",
              "  </svg>\n",
              "      </button>\n",
              "      \n",
              "  <style>\n",
              "    .colab-df-container {\n",
              "      display:flex;\n",
              "      flex-wrap:wrap;\n",
              "      gap: 12px;\n",
              "    }\n",
              "\n",
              "    .colab-df-convert {\n",
              "      background-color: #E8F0FE;\n",
              "      border: none;\n",
              "      border-radius: 50%;\n",
              "      cursor: pointer;\n",
              "      display: none;\n",
              "      fill: #1967D2;\n",
              "      height: 32px;\n",
              "      padding: 0 0 0 0;\n",
              "      width: 32px;\n",
              "    }\n",
              "\n",
              "    .colab-df-convert:hover {\n",
              "      background-color: #E2EBFA;\n",
              "      box-shadow: 0px 1px 2px rgba(60, 64, 67, 0.3), 0px 1px 3px 1px rgba(60, 64, 67, 0.15);\n",
              "      fill: #174EA6;\n",
              "    }\n",
              "\n",
              "    [theme=dark] .colab-df-convert {\n",
              "      background-color: #3B4455;\n",
              "      fill: #D2E3FC;\n",
              "    }\n",
              "\n",
              "    [theme=dark] .colab-df-convert:hover {\n",
              "      background-color: #434B5C;\n",
              "      box-shadow: 0px 1px 3px 1px rgba(0, 0, 0, 0.15);\n",
              "      filter: drop-shadow(0px 1px 2px rgba(0, 0, 0, 0.3));\n",
              "      fill: #FFFFFF;\n",
              "    }\n",
              "  </style>\n",
              "\n",
              "      <script>\n",
              "        const buttonEl =\n",
              "          document.querySelector('#df-dde4e187-e7d1-4acc-8dd1-a1fce7c51203 button.colab-df-convert');\n",
              "        buttonEl.style.display =\n",
              "          google.colab.kernel.accessAllowed ? 'block' : 'none';\n",
              "\n",
              "        async function convertToInteractive(key) {\n",
              "          const element = document.querySelector('#df-dde4e187-e7d1-4acc-8dd1-a1fce7c51203');\n",
              "          const dataTable =\n",
              "            await google.colab.kernel.invokeFunction('convertToInteractive',\n",
              "                                                     [key], {});\n",
              "          if (!dataTable) return;\n",
              "\n",
              "          const docLinkHtml = 'Like what you see? Visit the ' +\n",
              "            '<a target=\"_blank\" href=https://colab.research.google.com/notebooks/data_table.ipynb>data table notebook</a>'\n",
              "            + ' to learn more about interactive tables.';\n",
              "          element.innerHTML = '';\n",
              "          dataTable['output_type'] = 'display_data';\n",
              "          await google.colab.output.renderOutput(dataTable, element);\n",
              "          const docLink = document.createElement('div');\n",
              "          docLink.innerHTML = docLinkHtml;\n",
              "          element.appendChild(docLink);\n",
              "        }\n",
              "      </script>\n",
              "    </div>\n",
              "  </div>\n",
              "  "
            ]
          },
          "metadata": {},
          "execution_count": 7
        }
      ]
    },
    {
      "cell_type": "markdown",
      "source": [
        "Now lets take a look at the columns:"
      ],
      "metadata": {
        "id": "-GXN8Ah1bQCI"
      }
    },
    {
      "cell_type": "code",
      "source": [
        "data.nunique()"
      ],
      "metadata": {
        "id": "l4r7Wc4UbSUa",
        "outputId": "711f4e22-5ecf-46bd-8435-684a19893055",
        "colab": {
          "base_uri": "https://localhost:8080/"
        }
      },
      "execution_count": 8,
      "outputs": [
        {
          "output_type": "execute_result",
          "data": {
            "text/plain": [
              "Unnamed: 0.1        7619\n",
              "Unnamed: 0          7619\n",
              "track_id            7251\n",
              "artists             4495\n",
              "album_name          5303\n",
              "track_name          6430\n",
              "popularity            98\n",
              "duration_ms         6080\n",
              "explicit               2\n",
              "danceability         782\n",
              "energy               899\n",
              "key                   12\n",
              "loudness            4997\n",
              "mode                   2\n",
              "speechiness         1125\n",
              "acousticness        2683\n",
              "instrumentalness    2488\n",
              "liveness            1255\n",
              "valence             1083\n",
              "tempo               6136\n",
              "time_signature         5\n",
              "track_genre          114\n",
              "is_english             1\n",
              "lyrics              6316\n",
              "dtype: int64"
            ]
          },
          "metadata": {},
          "execution_count": 8
        }
      ]
    },
    {
      "cell_type": "markdown",
      "source": [
        "We want to get rid of the 2 ghost index columns and also of the track id, and the is_english column:"
      ],
      "metadata": {
        "id": "jfPaSwwubVb9"
      }
    },
    {
      "cell_type": "code",
      "source": [
        "data_clean = data.drop(columns = ['Unnamed: 0.1', 'Unnamed: 0', 'is_english','track_id'])"
      ],
      "metadata": {
        "id": "uGf0852TbYcY"
      },
      "execution_count": 9,
      "outputs": []
    },
    {
      "cell_type": "markdown",
      "source": [
        "lets take a look at the 'key' column\n",
        "\n",
        "description: The key the track is in. Integers map to pitches using standard Pitch Class notation. E.g. 0 = C, 1 = C♯/D♭, 2 = D, and so on. If no key was detected, the value is -1\n",
        "\n",
        "so we set -1 to NaN"
      ],
      "metadata": {
        "id": "xmLE7z1WcOBA"
      }
    },
    {
      "cell_type": "code",
      "source": [
        "data_clean['key'] = data_clean['key'].replace(to_replace= -1, value= np.nan)\n"
      ],
      "metadata": {
        "id": "sLMb-YyKcRW1"
      },
      "execution_count": 10,
      "outputs": []
    },
    {
      "cell_type": "code",
      "source": [
        "data_clean.isna().sum()"
      ],
      "metadata": {
        "id": "NTG6NEjZcWcE",
        "outputId": "22490c6b-9bff-4804-af17-4cc85443de61",
        "colab": {
          "base_uri": "https://localhost:8080/"
        }
      },
      "execution_count": 11,
      "outputs": [
        {
          "output_type": "execute_result",
          "data": {
            "text/plain": [
              "artists             0\n",
              "album_name          0\n",
              "track_name          0\n",
              "popularity          0\n",
              "duration_ms         0\n",
              "explicit            0\n",
              "danceability        0\n",
              "energy              0\n",
              "key                 0\n",
              "loudness            0\n",
              "mode                0\n",
              "speechiness         0\n",
              "acousticness        0\n",
              "instrumentalness    0\n",
              "liveness            0\n",
              "valence             0\n",
              "tempo               0\n",
              "time_signature      0\n",
              "track_genre         0\n",
              "lyrics              0\n",
              "dtype: int64"
            ]
          },
          "metadata": {},
          "execution_count": 11
        }
      ]
    },
    {
      "cell_type": "markdown",
      "source": [
        "Fortunately, there are no NA's in the key column."
      ],
      "metadata": {
        "id": "saIl1x-UcYvC"
      }
    },
    {
      "cell_type": "markdown",
      "source": [
        "Handling categorical data:"
      ],
      "metadata": {
        "id": "eh7v_xpHcbNz"
      }
    },
    {
      "cell_type": "code",
      "source": [
        "data_clean.dtypes"
      ],
      "metadata": {
        "id": "S8SZWy68cdMY",
        "outputId": "a4a1ecf1-a315-4295-8af5-28e5e090408d",
        "colab": {
          "base_uri": "https://localhost:8080/"
        }
      },
      "execution_count": 12,
      "outputs": [
        {
          "output_type": "execute_result",
          "data": {
            "text/plain": [
              "artists              object\n",
              "album_name           object\n",
              "track_name           object\n",
              "popularity            int64\n",
              "duration_ms           int64\n",
              "explicit               bool\n",
              "danceability        float64\n",
              "energy              float64\n",
              "key                   int64\n",
              "loudness            float64\n",
              "mode                  int64\n",
              "speechiness         float64\n",
              "acousticness        float64\n",
              "instrumentalness    float64\n",
              "liveness            float64\n",
              "valence             float64\n",
              "tempo               float64\n",
              "time_signature        int64\n",
              "track_genre          object\n",
              "lyrics               object\n",
              "dtype: object"
            ]
          },
          "metadata": {},
          "execution_count": 12
        }
      ]
    },
    {
      "cell_type": "code",
      "source": [
        "data_clean.nunique()"
      ],
      "metadata": {
        "id": "Ekgn4uDccew4",
        "outputId": "a7a9f4c2-74f3-4e07-a69e-acb26460c096",
        "colab": {
          "base_uri": "https://localhost:8080/"
        }
      },
      "execution_count": 13,
      "outputs": [
        {
          "output_type": "execute_result",
          "data": {
            "text/plain": [
              "artists             4495\n",
              "album_name          5303\n",
              "track_name          6430\n",
              "popularity            98\n",
              "duration_ms         6080\n",
              "explicit               2\n",
              "danceability         782\n",
              "energy               899\n",
              "key                   12\n",
              "loudness            4997\n",
              "mode                   2\n",
              "speechiness         1125\n",
              "acousticness        2683\n",
              "instrumentalness    2488\n",
              "liveness            1255\n",
              "valence             1083\n",
              "tempo               6136\n",
              "time_signature         5\n",
              "track_genre          114\n",
              "lyrics              6316\n",
              "dtype: int64"
            ]
          },
          "metadata": {},
          "execution_count": 13
        }
      ]
    },
    {
      "cell_type": "markdown",
      "source": [
        "We handle categorical variables by creating dummy variables on the categorical columns:"
      ],
      "metadata": {
        "id": "rCadJf9jcg7r"
      }
    },
    {
      "cell_type": "code",
      "source": [
        "catcols = ['explicit', 'mode', 'key', 'track_genre', 'time_signature']\n",
        "data_cat=pd.get_dummies(data_clean, columns = catcols)\n",
        "data_cat.dtypes"
      ],
      "metadata": {
        "id": "FGISzB_ici3p",
        "outputId": "93f99ab0-aa5a-4991-ceac-37d99c6186cb",
        "colab": {
          "base_uri": "https://localhost:8080/"
        }
      },
      "execution_count": 14,
      "outputs": [
        {
          "output_type": "execute_result",
          "data": {
            "text/plain": [
              "artists             object\n",
              "album_name          object\n",
              "track_name          object\n",
              "popularity           int64\n",
              "duration_ms          int64\n",
              "                     ...  \n",
              "time_signature_0     uint8\n",
              "time_signature_1     uint8\n",
              "time_signature_3     uint8\n",
              "time_signature_4     uint8\n",
              "time_signature_5     uint8\n",
              "Length: 150, dtype: object"
            ]
          },
          "metadata": {},
          "execution_count": 14
        }
      ]
    },
    {
      "cell_type": "markdown",
      "source": [
        "Since the artists, album name and track name contain no value for our analysis, we drop those aswell."
      ],
      "metadata": {
        "id": "7BKyZ8C7ctsq"
      }
    },
    {
      "cell_type": "code",
      "source": [
        "# now only keep feature columns and target column\n",
        "dropcol = ['artists', 'album_name', 'track_name']\n",
        "df_final = data_cat.drop(columns = dropcol)"
      ],
      "metadata": {
        "id": "JJCbp1tCc9ju"
      },
      "execution_count": 15,
      "outputs": []
    },
    {
      "cell_type": "code",
      "source": [
        "df_final.head()"
      ],
      "metadata": {
        "id": "QQOoQgF9dCbN",
        "outputId": "59db83d1-c139-44b2-cd1c-57c37e661457",
        "colab": {
          "base_uri": "https://localhost:8080/",
          "height": 317
        }
      },
      "execution_count": 16,
      "outputs": [
        {
          "output_type": "execute_result",
          "data": {
            "text/plain": [
              "   popularity  duration_ms  danceability  energy  loudness  speechiness  \\\n",
              "0          41       215173         0.596   0.358   -12.993       0.0255   \n",
              "1          29       262750         0.873   0.836    -3.851       0.2430   \n",
              "2          36       295909         0.437   0.607    -5.704       0.0428   \n",
              "3          84       391376         0.579   0.508    -9.484       0.0270   \n",
              "4          25       220706         0.544   0.751    -6.101       0.0308   \n",
              "\n",
              "   acousticness  instrumentalness  liveness  valence  ...  track_genre_techno  \\\n",
              "0       0.90000          0.050300    0.1080    0.430  ...                   0   \n",
              "1       0.24800          0.000000    0.0836    0.653  ...                   0   \n",
              "2       0.33200          0.000000    0.1420    0.275  ...                   0   \n",
              "3       0.00574          0.000494    0.0575    0.609  ...                   0   \n",
              "4       0.31500          0.000708    0.3070    0.732  ...                   0   \n",
              "\n",
              "  track_genre_trance  track_genre_trip-hop  track_genre_turkish  \\\n",
              "0                  0                     0                    0   \n",
              "1                  0                     0                    0   \n",
              "2                  0                     0                    0   \n",
              "3                  0                     0                    0   \n",
              "4                  0                     0                    0   \n",
              "\n",
              "   track_genre_world-music  time_signature_0  time_signature_1  \\\n",
              "0                        0                 0                 0   \n",
              "1                        0                 0                 0   \n",
              "2                        0                 0                 0   \n",
              "3                        0                 0                 0   \n",
              "4                        0                 0                 0   \n",
              "\n",
              "   time_signature_3  time_signature_4  time_signature_5  \n",
              "0                 0                 1                 0  \n",
              "1                 1                 0                 0  \n",
              "2                 0                 1                 0  \n",
              "3                 0                 1                 0  \n",
              "4                 0                 1                 0  \n",
              "\n",
              "[5 rows x 147 columns]"
            ],
            "text/html": [
              "\n",
              "  <div id=\"df-eb641373-72c3-4fdf-9e59-4c49b59b8ca7\">\n",
              "    <div class=\"colab-df-container\">\n",
              "      <div>\n",
              "<style scoped>\n",
              "    .dataframe tbody tr th:only-of-type {\n",
              "        vertical-align: middle;\n",
              "    }\n",
              "\n",
              "    .dataframe tbody tr th {\n",
              "        vertical-align: top;\n",
              "    }\n",
              "\n",
              "    .dataframe thead th {\n",
              "        text-align: right;\n",
              "    }\n",
              "</style>\n",
              "<table border=\"1\" class=\"dataframe\">\n",
              "  <thead>\n",
              "    <tr style=\"text-align: right;\">\n",
              "      <th></th>\n",
              "      <th>popularity</th>\n",
              "      <th>duration_ms</th>\n",
              "      <th>danceability</th>\n",
              "      <th>energy</th>\n",
              "      <th>loudness</th>\n",
              "      <th>speechiness</th>\n",
              "      <th>acousticness</th>\n",
              "      <th>instrumentalness</th>\n",
              "      <th>liveness</th>\n",
              "      <th>valence</th>\n",
              "      <th>...</th>\n",
              "      <th>track_genre_techno</th>\n",
              "      <th>track_genre_trance</th>\n",
              "      <th>track_genre_trip-hop</th>\n",
              "      <th>track_genre_turkish</th>\n",
              "      <th>track_genre_world-music</th>\n",
              "      <th>time_signature_0</th>\n",
              "      <th>time_signature_1</th>\n",
              "      <th>time_signature_3</th>\n",
              "      <th>time_signature_4</th>\n",
              "      <th>time_signature_5</th>\n",
              "    </tr>\n",
              "  </thead>\n",
              "  <tbody>\n",
              "    <tr>\n",
              "      <th>0</th>\n",
              "      <td>41</td>\n",
              "      <td>215173</td>\n",
              "      <td>0.596</td>\n",
              "      <td>0.358</td>\n",
              "      <td>-12.993</td>\n",
              "      <td>0.0255</td>\n",
              "      <td>0.90000</td>\n",
              "      <td>0.050300</td>\n",
              "      <td>0.1080</td>\n",
              "      <td>0.430</td>\n",
              "      <td>...</td>\n",
              "      <td>0</td>\n",
              "      <td>0</td>\n",
              "      <td>0</td>\n",
              "      <td>0</td>\n",
              "      <td>0</td>\n",
              "      <td>0</td>\n",
              "      <td>0</td>\n",
              "      <td>0</td>\n",
              "      <td>1</td>\n",
              "      <td>0</td>\n",
              "    </tr>\n",
              "    <tr>\n",
              "      <th>1</th>\n",
              "      <td>29</td>\n",
              "      <td>262750</td>\n",
              "      <td>0.873</td>\n",
              "      <td>0.836</td>\n",
              "      <td>-3.851</td>\n",
              "      <td>0.2430</td>\n",
              "      <td>0.24800</td>\n",
              "      <td>0.000000</td>\n",
              "      <td>0.0836</td>\n",
              "      <td>0.653</td>\n",
              "      <td>...</td>\n",
              "      <td>0</td>\n",
              "      <td>0</td>\n",
              "      <td>0</td>\n",
              "      <td>0</td>\n",
              "      <td>0</td>\n",
              "      <td>0</td>\n",
              "      <td>0</td>\n",
              "      <td>1</td>\n",
              "      <td>0</td>\n",
              "      <td>0</td>\n",
              "    </tr>\n",
              "    <tr>\n",
              "      <th>2</th>\n",
              "      <td>36</td>\n",
              "      <td>295909</td>\n",
              "      <td>0.437</td>\n",
              "      <td>0.607</td>\n",
              "      <td>-5.704</td>\n",
              "      <td>0.0428</td>\n",
              "      <td>0.33200</td>\n",
              "      <td>0.000000</td>\n",
              "      <td>0.1420</td>\n",
              "      <td>0.275</td>\n",
              "      <td>...</td>\n",
              "      <td>0</td>\n",
              "      <td>0</td>\n",
              "      <td>0</td>\n",
              "      <td>0</td>\n",
              "      <td>0</td>\n",
              "      <td>0</td>\n",
              "      <td>0</td>\n",
              "      <td>0</td>\n",
              "      <td>1</td>\n",
              "      <td>0</td>\n",
              "    </tr>\n",
              "    <tr>\n",
              "      <th>3</th>\n",
              "      <td>84</td>\n",
              "      <td>391376</td>\n",
              "      <td>0.579</td>\n",
              "      <td>0.508</td>\n",
              "      <td>-9.484</td>\n",
              "      <td>0.0270</td>\n",
              "      <td>0.00574</td>\n",
              "      <td>0.000494</td>\n",
              "      <td>0.0575</td>\n",
              "      <td>0.609</td>\n",
              "      <td>...</td>\n",
              "      <td>0</td>\n",
              "      <td>0</td>\n",
              "      <td>0</td>\n",
              "      <td>0</td>\n",
              "      <td>0</td>\n",
              "      <td>0</td>\n",
              "      <td>0</td>\n",
              "      <td>0</td>\n",
              "      <td>1</td>\n",
              "      <td>0</td>\n",
              "    </tr>\n",
              "    <tr>\n",
              "      <th>4</th>\n",
              "      <td>25</td>\n",
              "      <td>220706</td>\n",
              "      <td>0.544</td>\n",
              "      <td>0.751</td>\n",
              "      <td>-6.101</td>\n",
              "      <td>0.0308</td>\n",
              "      <td>0.31500</td>\n",
              "      <td>0.000708</td>\n",
              "      <td>0.3070</td>\n",
              "      <td>0.732</td>\n",
              "      <td>...</td>\n",
              "      <td>0</td>\n",
              "      <td>0</td>\n",
              "      <td>0</td>\n",
              "      <td>0</td>\n",
              "      <td>0</td>\n",
              "      <td>0</td>\n",
              "      <td>0</td>\n",
              "      <td>0</td>\n",
              "      <td>1</td>\n",
              "      <td>0</td>\n",
              "    </tr>\n",
              "  </tbody>\n",
              "</table>\n",
              "<p>5 rows × 147 columns</p>\n",
              "</div>\n",
              "      <button class=\"colab-df-convert\" onclick=\"convertToInteractive('df-eb641373-72c3-4fdf-9e59-4c49b59b8ca7')\"\n",
              "              title=\"Convert this dataframe to an interactive table.\"\n",
              "              style=\"display:none;\">\n",
              "        \n",
              "  <svg xmlns=\"http://www.w3.org/2000/svg\" height=\"24px\"viewBox=\"0 0 24 24\"\n",
              "       width=\"24px\">\n",
              "    <path d=\"M0 0h24v24H0V0z\" fill=\"none\"/>\n",
              "    <path d=\"M18.56 5.44l.94 2.06.94-2.06 2.06-.94-2.06-.94-.94-2.06-.94 2.06-2.06.94zm-11 1L8.5 8.5l.94-2.06 2.06-.94-2.06-.94L8.5 2.5l-.94 2.06-2.06.94zm10 10l.94 2.06.94-2.06 2.06-.94-2.06-.94-.94-2.06-.94 2.06-2.06.94z\"/><path d=\"M17.41 7.96l-1.37-1.37c-.4-.4-.92-.59-1.43-.59-.52 0-1.04.2-1.43.59L10.3 9.45l-7.72 7.72c-.78.78-.78 2.05 0 2.83L4 21.41c.39.39.9.59 1.41.59.51 0 1.02-.2 1.41-.59l7.78-7.78 2.81-2.81c.8-.78.8-2.07 0-2.86zM5.41 20L4 18.59l7.72-7.72 1.47 1.35L5.41 20z\"/>\n",
              "  </svg>\n",
              "      </button>\n",
              "      \n",
              "  <style>\n",
              "    .colab-df-container {\n",
              "      display:flex;\n",
              "      flex-wrap:wrap;\n",
              "      gap: 12px;\n",
              "    }\n",
              "\n",
              "    .colab-df-convert {\n",
              "      background-color: #E8F0FE;\n",
              "      border: none;\n",
              "      border-radius: 50%;\n",
              "      cursor: pointer;\n",
              "      display: none;\n",
              "      fill: #1967D2;\n",
              "      height: 32px;\n",
              "      padding: 0 0 0 0;\n",
              "      width: 32px;\n",
              "    }\n",
              "\n",
              "    .colab-df-convert:hover {\n",
              "      background-color: #E2EBFA;\n",
              "      box-shadow: 0px 1px 2px rgba(60, 64, 67, 0.3), 0px 1px 3px 1px rgba(60, 64, 67, 0.15);\n",
              "      fill: #174EA6;\n",
              "    }\n",
              "\n",
              "    [theme=dark] .colab-df-convert {\n",
              "      background-color: #3B4455;\n",
              "      fill: #D2E3FC;\n",
              "    }\n",
              "\n",
              "    [theme=dark] .colab-df-convert:hover {\n",
              "      background-color: #434B5C;\n",
              "      box-shadow: 0px 1px 3px 1px rgba(0, 0, 0, 0.15);\n",
              "      filter: drop-shadow(0px 1px 2px rgba(0, 0, 0, 0.3));\n",
              "      fill: #FFFFFF;\n",
              "    }\n",
              "  </style>\n",
              "\n",
              "      <script>\n",
              "        const buttonEl =\n",
              "          document.querySelector('#df-eb641373-72c3-4fdf-9e59-4c49b59b8ca7 button.colab-df-convert');\n",
              "        buttonEl.style.display =\n",
              "          google.colab.kernel.accessAllowed ? 'block' : 'none';\n",
              "\n",
              "        async function convertToInteractive(key) {\n",
              "          const element = document.querySelector('#df-eb641373-72c3-4fdf-9e59-4c49b59b8ca7');\n",
              "          const dataTable =\n",
              "            await google.colab.kernel.invokeFunction('convertToInteractive',\n",
              "                                                     [key], {});\n",
              "          if (!dataTable) return;\n",
              "\n",
              "          const docLinkHtml = 'Like what you see? Visit the ' +\n",
              "            '<a target=\"_blank\" href=https://colab.research.google.com/notebooks/data_table.ipynb>data table notebook</a>'\n",
              "            + ' to learn more about interactive tables.';\n",
              "          element.innerHTML = '';\n",
              "          dataTable['output_type'] = 'display_data';\n",
              "          await google.colab.output.renderOutput(dataTable, element);\n",
              "          const docLink = document.createElement('div');\n",
              "          docLink.innerHTML = docLinkHtml;\n",
              "          element.appendChild(docLink);\n",
              "        }\n",
              "      </script>\n",
              "    </div>\n",
              "  </div>\n",
              "  "
            ]
          },
          "metadata": {},
          "execution_count": 16
        }
      ]
    },
    {
      "cell_type": "markdown",
      "source": [
        "Handling the lyrics column:"
      ],
      "metadata": {
        "id": "M-Efso5rdEXK"
      }
    },
    {
      "cell_type": "code",
      "source": [
        "pd.set_option('display.max_colwidth', 2000)\n",
        "df_final.lyrics.head(2)"
      ],
      "metadata": {
        "id": "32dTeZ6IdGG3",
        "outputId": "5909083e-5f4b-4720-8729-e123ae626bb0",
        "colab": {
          "base_uri": "https://localhost:8080/"
        }
      },
      "execution_count": 17,
      "outputs": [
        {
          "output_type": "execute_result",
          "data": {
            "text/plain": [
              "0                                                                                                                                                                                                                                                                                                                                                                                                                                                                                                                                                                                                                                                                                                                                                                                                                                                                                                                                                                                                                                                                                                                                                                                                                                                                                                                                                                                                                                                                   5 ContributorsTranslationsEnglishKahaani Lyrics[Intro]\\nकाश कभी तुम समझोगी\\nकि क्यूँ हम करीब नहीं\\nकाश कभी तुम जानोगी\\nकि अब तक है तेरी कमी\\n\\n[Verse 1]\\nपता है हमें कि तेरे बिना\\nअधूरी है ये ज़िंदगी\\nपता है हमें कि मेरी फ़िक्र\\nअब तक तुम्हें है कहीं\\n\\n[Verse 2]\\nतेरी-मेरी राहें कहीं\\nमिलेंगी शायद फिर कभी\\nकहानी ये अधूरी सही\\nपूरी होगी फिर कभी\\n\\n[Verse 3]\\nतेरा-मेरा साथ ये\\nअभी पूरा हुआ नहीं\\nतेरी-मेरी राहें कहीं\\nमिलेंगी शायद फिर कभी\\n\\n[Outro]\\nयहाँ भी हो, यादों में हो\\nसाँसों में हो मेरी\\nयहाँ भी हो, यादों में हो\\nसाँसों में हो मेरीYou might also like1Embed\n",
              "1    1 ContributorEl Clavo LyricsEste es el remix, el campeon de todo los pesos, el presidente del genero eh\\nY ataca de nuevo el mr mr mr black, el asaro\\n\\nCuando sienta el frio, yo no este\\nSentiras el vacio que dejo mi piel\\nCuando mis caricias, te hagan falta\\nY mi perfume ya no este en tu cama\\n\\nBorrare en mi memoria si algun dia te bese\\nAquellos momentos que estuvimo en la intimidad\\nCuando me decias, que tu me querias\\nBorrare mi pasado\\n\\nSi algun dia te arrepientes, no vuelvas no llores por mi\\nMe vas a recordar te quize tambien\\nPero tus penas fueron las peores\\n\\nCuando yo este en brazos de otra\\nNo me pidas que te perdone\\nTu fuiste la que te marchaste\\nMataste mis besos con tus herrores\\n\\nCuando yo este en brazos de otra\\nNo me pidas que te perdone\\nTu fuiste la que te marchaste\\nMataste mis besos con tus herrores\\nYou might also likeYo no quiero nada contigo, yo no se lo vas hacer\\n\\nAlberto sobrino y el jorby, papo iriarte, ricky flow, chawa chawa\\nY ataca de nuevo el mr mr mr black, el asaro\\n\\nUn clavo saca otro clavo\\nY ya tengo otra a mi lado\\nQue si mi entiende, que me comprende\\nQue me da besos que si me atiende\\n\\nUn clavo saca otro clavo\\nY ya tengo otra a mi lado\\nQue si mi entiende, que me comprende\\nQue me da besos que si me atiende\\n\\nY echala y enganchala y sueltala y metele\\nMetele metele metele metele metele metele\\n\\nCuando yo este en brazos de otra\\nNo me pidas que te perdone\\nTu fuiste la que te marchaste\\nMataste mis besos con tus herrores\\n\\nCuando yo este en brazos de otra\\nNo me pidas que te perdone\\nTu fuiste la que te marchaste\\nMataste mis besos con tus herrores\\nUn clavo saca otro clavo\\nY ya tengo otra a mi lado\\nQue si mi entiende, que me comprende\\nQue me da besos que si me atiende\\n\\nUn clavo saca otro clavo\\nY ya tengo otra a mi lado\\nQue si mi entiende, que me comprende\\nQue me da besos que si me atiende\\n\\nY echala y enganchala y sueltala y metele\\nMetele metele metele metele metele metele1Embed\n",
              "Name: lyrics, dtype: object"
            ]
          },
          "metadata": {},
          "execution_count": 17
        }
      ]
    },
    {
      "cell_type": "markdown",
      "source": [
        "First, we want to check if the lyrics column only contains English letters or characters and no other ones (like japanese for example).\n",
        "\n",
        "For that, we use the check_english_letters function that we already used in the notebook that was running locally for scraping the lyrics."
      ],
      "metadata": {
        "id": "u4G24vz1dJ8c"
      }
    },
    {
      "cell_type": "code",
      "source": [
        "import re\n",
        "def check_english_letters(text):\n",
        "    if isinstance(text, str):\n",
        "        pattern = re.compile(r'[^\\x00-\\x7F]') #match any character that is not in the ASCII range of English letters and characters. If a match is found, it means non-English letters or symbols are present in the text.\n",
        "        match = re.search(pattern, text)\n",
        "        if match:\n",
        "            return False  # Non-English letters or symbols found\n",
        "        else:\n",
        "            return True  # Contains only English letters and characters\n",
        "    else:\n",
        "        return True  # Treat non-string values as English"
      ],
      "metadata": {
        "id": "vWZzYEXZdKbL"
      },
      "execution_count": 18,
      "outputs": []
    },
    {
      "cell_type": "code",
      "source": [
        "df_final['is_english'] = df_final['lyrics'].apply(check_english_letters)\n"
      ],
      "metadata": {
        "id": "OkL8pjoadN9v"
      },
      "execution_count": 19,
      "outputs": []
    },
    {
      "cell_type": "markdown",
      "source": [
        "Let's see the result:"
      ],
      "metadata": {
        "id": "L_Owf_C5dPoO"
      }
    },
    {
      "cell_type": "code",
      "source": [
        "df_final.is_english.value_counts()\n"
      ],
      "metadata": {
        "id": "XQaL4DnjdRUT",
        "outputId": "dac64919-a7e7-4ba4-d207-470535ed2d72",
        "colab": {
          "base_uri": "https://localhost:8080/"
        }
      },
      "execution_count": 20,
      "outputs": [
        {
          "output_type": "execute_result",
          "data": {
            "text/plain": [
              "False    4907\n",
              "True     2712\n",
              "Name: is_english, dtype: int64"
            ]
          },
          "metadata": {},
          "execution_count": 20
        }
      ]
    },
    {
      "cell_type": "markdown",
      "source": [
        "Only around one third of the songs contain english letters only. We will drop all the others:"
      ],
      "metadata": {
        "id": "T0DVDxE2dUWF"
      }
    },
    {
      "cell_type": "code",
      "source": [
        "df_final = df_final[(df_final.is_english == True)].drop(columns = ['is_english'])\n"
      ],
      "metadata": {
        "id": "EWm3JSPrddFz"
      },
      "execution_count": 21,
      "outputs": []
    },
    {
      "cell_type": "code",
      "source": [
        "df_final.lyrics.head(2)"
      ],
      "metadata": {
        "id": "NakfUuaYdfOJ",
        "outputId": "c242f1e9-3616-4143-b10e-9453ee2c75d4",
        "colab": {
          "base_uri": "https://localhost:8080/"
        }
      },
      "execution_count": 22,
      "outputs": [
        {
          "output_type": "execute_result",
          "data": {
            "text/plain": [
              "1    1 ContributorEl Clavo LyricsEste es el remix, el campeon de todo los pesos, el presidente del genero eh\\nY ataca de nuevo el mr mr mr black, el asaro\\n\\nCuando sienta el frio, yo no este\\nSentiras el vacio que dejo mi piel\\nCuando mis caricias, te hagan falta\\nY mi perfume ya no este en tu cama\\n\\nBorrare en mi memoria si algun dia te bese\\nAquellos momentos que estuvimo en la intimidad\\nCuando me decias, que tu me querias\\nBorrare mi pasado\\n\\nSi algun dia te arrepientes, no vuelvas no llores por mi\\nMe vas a recordar te quize tambien\\nPero tus penas fueron las peores\\n\\nCuando yo este en brazos de otra\\nNo me pidas que te perdone\\nTu fuiste la que te marchaste\\nMataste mis besos con tus herrores\\n\\nCuando yo este en brazos de otra\\nNo me pidas que te perdone\\nTu fuiste la que te marchaste\\nMataste mis besos con tus herrores\\nYou might also likeYo no quiero nada contigo, yo no se lo vas hacer\\n\\nAlberto sobrino y el jorby, papo iriarte, ricky flow, chawa chawa\\nY ataca de nuevo el mr mr mr black, el asaro\\n\\nUn clavo saca otro clavo\\nY ya tengo otra a mi lado\\nQue si mi entiende, que me comprende\\nQue me da besos que si me atiende\\n\\nUn clavo saca otro clavo\\nY ya tengo otra a mi lado\\nQue si mi entiende, que me comprende\\nQue me da besos que si me atiende\\n\\nY echala y enganchala y sueltala y metele\\nMetele metele metele metele metele metele\\n\\nCuando yo este en brazos de otra\\nNo me pidas que te perdone\\nTu fuiste la que te marchaste\\nMataste mis besos con tus herrores\\n\\nCuando yo este en brazos de otra\\nNo me pidas que te perdone\\nTu fuiste la que te marchaste\\nMataste mis besos con tus herrores\\nUn clavo saca otro clavo\\nY ya tengo otra a mi lado\\nQue si mi entiende, que me comprende\\nQue me da besos que si me atiende\\n\\nUn clavo saca otro clavo\\nY ya tengo otra a mi lado\\nQue si mi entiende, que me comprende\\nQue me da besos que si me atiende\\n\\nY echala y enganchala y sueltala y metele\\nMetele metele metele metele metele metele1Embed\n",
              "2                                                                                                                                                                                                                                                                                                                                                                                                                                                                                                                                                                                                                                                                                                                                  5 ContributorsMake a Promise Lyrics[Verse 1]\\nWhat if I\\nIf I were to confess\\nYou're the greatest\\nHuman I've ever met\\nAnd if given the chance\\nI will love you with all\\nAll that I am\\n\\n[Verse 2]\\nWhat if you\\nAnd me travelled the world\\nWhat if you were my man\\nWhat if I was your girl\\nWhat if I understand\\nWhat if this could be so different?\\n\\n[Chorus]\\nCan we make a promise?\\nThat whatever happens\\nLike even if the love ends\\nWe will always be friends, oh\\n'Cause if I lost you (you)\\nI'd lose myself too (too)\\nSo right before we dive in\\nCan we make a promise, oh?\\nYou might also like[Verse 3]\\nOh if we lose this moment\\nWe will keep our hearts open\\nI'll never leave you behind\\nYou'll never leave me behind\\nOh if we're ever broken\\nThis promise is our potion\\nI'll never leave you behind\\nYou'll never leave me behind\\n\\n[Chorus]\\nCan we make a promise?\\nThat whatever happens\\nLike even if the love ends\\nWe will always be friends, oh\\n'Cause if I lost you (you)\\nI'd lose myself too (too)\\nSo right before we dive in\\nCan we make a promise, oh?\\n\\n[Bridge]\\nWe'll be forever\\nWe'll be forever\\nWe'll be forever\\nWe'll be forever\\n[Outro]\\n'Cause if I lost you (you)\\nI'd lose myself too (too)\\nSo right before we dive in\\nCan we make a promise, oh?Embed\n",
              "Name: lyrics, dtype: object"
            ]
          },
          "metadata": {},
          "execution_count": 22
        }
      ]
    },
    {
      "cell_type": "markdown",
      "source": [
        "As we can see, there are square brackets in the lyrics that contain information like 'verse 1' or 'chorus' or 'Bridge' etc. We want to get rid of those including the brackets."
      ],
      "metadata": {
        "id": "OnkHrY2CdhwI"
      }
    },
    {
      "cell_type": "code",
      "source": [
        "import re\n",
        "df_final['lyrics'] = df_final['lyrics'].apply(lambda x: re.sub(r\"\\[.*?\\]\", \"\", x))"
      ],
      "metadata": {
        "id": "sFE4tkqpdly_"
      },
      "execution_count": 23,
      "outputs": []
    },
    {
      "cell_type": "markdown",
      "source": [
        "we can also see in the head of the lyrics column that all the lyrics start with the number of contributors, the name of the song and the word 'lyrics'.\n",
        "So we want to take a look if this is just coincidence or if it applies to all rows."
      ],
      "metadata": {
        "id": "YgQ0tSybdpL6"
      }
    },
    {
      "cell_type": "code",
      "source": [
        "df_final['lyrics'].str.contains('lyrics', case=False).sum()/len(df_final)"
      ],
      "metadata": {
        "id": "EHY28PTVdvia",
        "outputId": "99ae3a36-385a-4edf-ab4c-d4514ac089f9",
        "colab": {
          "base_uri": "https://localhost:8080/"
        }
      },
      "execution_count": 24,
      "outputs": [
        {
          "output_type": "execute_result",
          "data": {
            "text/plain": [
              "1.0"
            ]
          },
          "metadata": {},
          "execution_count": 24
        }
      ]
    },
    {
      "cell_type": "markdown",
      "source": [
        "we can see that every row contains the string 'lyrics'.\n",
        "\n",
        "Therefore, we want to drop everything that comes before the word lyrics, because it has no meaning for the lyrics itself.\n",
        "\n",
        "For example: '4 ContributorsTall Cans LyricsI’m trying to st...' should drop the '4 ContributorsTall Cans Lyrics'"
      ],
      "metadata": {
        "id": "nEFVWimjezcx"
      }
    },
    {
      "cell_type": "code",
      "source": [
        "df_final['lyrics'] = df_final['lyrics'].apply(lambda x: re.sub(r\".*?(?i)lyrics\", \"\", x))"
      ],
      "metadata": {
        "id": "cH4AE2Txe00C",
        "outputId": "368c3679-060f-4e8c-e907-2149eed96585",
        "colab": {
          "base_uri": "https://localhost:8080/"
        }
      },
      "execution_count": 25,
      "outputs": [
        {
          "output_type": "stream",
          "name": "stderr",
          "text": [
            "<ipython-input-25-97ac0e29e665>:1: DeprecationWarning: Flags not at the start of the expression '.*?(?i)lyrics' but at position 3\n",
            "  df_final['lyrics'] = df_final['lyrics'].apply(lambda x: re.sub(r\".*?(?i)lyrics\", \"\", x))\n"
          ]
        }
      ]
    },
    {
      "cell_type": "code",
      "source": [
        "df_final.lyrics.head(2)"
      ],
      "metadata": {
        "id": "urMy3ZB_fJW3",
        "outputId": "92e6528c-8dad-4814-d820-565d2fc1de2f",
        "colab": {
          "base_uri": "https://localhost:8080/"
        }
      },
      "execution_count": 26,
      "outputs": [
        {
          "output_type": "execute_result",
          "data": {
            "text/plain": [
              "1    Este es el remix, el campeon de todo los pesos, el presidente del genero eh\\nY ataca de nuevo el mr mr mr black, el asaro\\n\\nCuando sienta el frio, yo no este\\nSentiras el vacio que dejo mi piel\\nCuando mis caricias, te hagan falta\\nY mi perfume ya no este en tu cama\\n\\nBorrare en mi memoria si algun dia te bese\\nAquellos momentos que estuvimo en la intimidad\\nCuando me decias, que tu me querias\\nBorrare mi pasado\\n\\nSi algun dia te arrepientes, no vuelvas no llores por mi\\nMe vas a recordar te quize tambien\\nPero tus penas fueron las peores\\n\\nCuando yo este en brazos de otra\\nNo me pidas que te perdone\\nTu fuiste la que te marchaste\\nMataste mis besos con tus herrores\\n\\nCuando yo este en brazos de otra\\nNo me pidas que te perdone\\nTu fuiste la que te marchaste\\nMataste mis besos con tus herrores\\nYou might also likeYo no quiero nada contigo, yo no se lo vas hacer\\n\\nAlberto sobrino y el jorby, papo iriarte, ricky flow, chawa chawa\\nY ataca de nuevo el mr mr mr black, el asaro\\n\\nUn clavo saca otro clavo\\nY ya tengo otra a mi lado\\nQue si mi entiende, que me comprende\\nQue me da besos que si me atiende\\n\\nUn clavo saca otro clavo\\nY ya tengo otra a mi lado\\nQue si mi entiende, que me comprende\\nQue me da besos que si me atiende\\n\\nY echala y enganchala y sueltala y metele\\nMetele metele metele metele metele metele\\n\\nCuando yo este en brazos de otra\\nNo me pidas que te perdone\\nTu fuiste la que te marchaste\\nMataste mis besos con tus herrores\\n\\nCuando yo este en brazos de otra\\nNo me pidas que te perdone\\nTu fuiste la que te marchaste\\nMataste mis besos con tus herrores\\nUn clavo saca otro clavo\\nY ya tengo otra a mi lado\\nQue si mi entiende, que me comprende\\nQue me da besos que si me atiende\\n\\nUn clavo saca otro clavo\\nY ya tengo otra a mi lado\\nQue si mi entiende, que me comprende\\nQue me da besos que si me atiende\\n\\nY echala y enganchala y sueltala y metele\\nMetele metele metele metele metele metele1Embed\n",
              "2                                                                                                                                                                                                                                                                                                                                                                                                                                                                                                                                                                                                                                                                                                                                                                                                   \\nWhat if I\\nIf I were to confess\\nYou're the greatest\\nHuman I've ever met\\nAnd if given the chance\\nI will love you with all\\nAll that I am\\n\\n\\nWhat if you\\nAnd me travelled the world\\nWhat if you were my man\\nWhat if I was your girl\\nWhat if I understand\\nWhat if this could be so different?\\n\\n\\nCan we make a promise?\\nThat whatever happens\\nLike even if the love ends\\nWe will always be friends, oh\\n'Cause if I lost you (you)\\nI'd lose myself too (too)\\nSo right before we dive in\\nCan we make a promise, oh?\\nYou might also like\\nOh if we lose this moment\\nWe will keep our hearts open\\nI'll never leave you behind\\nYou'll never leave me behind\\nOh if we're ever broken\\nThis promise is our potion\\nI'll never leave you behind\\nYou'll never leave me behind\\n\\n\\nCan we make a promise?\\nThat whatever happens\\nLike even if the love ends\\nWe will always be friends, oh\\n'Cause if I lost you (you)\\nI'd lose myself too (too)\\nSo right before we dive in\\nCan we make a promise, oh?\\n\\n\\nWe'll be forever\\nWe'll be forever\\nWe'll be forever\\nWe'll be forever\\n\\n'Cause if I lost you (you)\\nI'd lose myself too (too)\\nSo right before we dive in\\nCan we make a promise, oh?Embed\n",
              "Name: lyrics, dtype: object"
            ]
          },
          "metadata": {},
          "execution_count": 26
        }
      ]
    },
    {
      "cell_type": "markdown",
      "source": [
        "We can see that the lyrics contain '\\n' to indicate a new line. Therefore we want to delete the '\\n' because they indicate a new line and we replace them with an space ' ':"
      ],
      "metadata": {
        "id": "_VzVPjAmfNUQ"
      }
    },
    {
      "cell_type": "code",
      "source": [
        "df_final['lyrics'] = df_final['lyrics'].apply(lambda x: re.sub(r'\\n', ' ', x))"
      ],
      "metadata": {
        "id": "FxWVKi8rfOoF"
      },
      "execution_count": 27,
      "outputs": []
    },
    {
      "cell_type": "markdown",
      "source": [
        "Now let's take a look at the end of the lyrics."
      ],
      "metadata": {
        "id": "VLEAhiWtfWVW"
      }
    },
    {
      "cell_type": "code",
      "source": [
        "df_final.lyrics.head(2)"
      ],
      "metadata": {
        "id": "gxlkJcT2fYgL",
        "outputId": "3951d876-cf1f-4406-e701-7f145b9be58d",
        "colab": {
          "base_uri": "https://localhost:8080/"
        }
      },
      "execution_count": 28,
      "outputs": [
        {
          "output_type": "execute_result",
          "data": {
            "text/plain": [
              "1    Este es el remix, el campeon de todo los pesos, el presidente del genero eh Y ataca de nuevo el mr mr mr black, el asaro  Cuando sienta el frio, yo no este Sentiras el vacio que dejo mi piel Cuando mis caricias, te hagan falta Y mi perfume ya no este en tu cama  Borrare en mi memoria si algun dia te bese Aquellos momentos que estuvimo en la intimidad Cuando me decias, que tu me querias Borrare mi pasado  Si algun dia te arrepientes, no vuelvas no llores por mi Me vas a recordar te quize tambien Pero tus penas fueron las peores  Cuando yo este en brazos de otra No me pidas que te perdone Tu fuiste la que te marchaste Mataste mis besos con tus herrores  Cuando yo este en brazos de otra No me pidas que te perdone Tu fuiste la que te marchaste Mataste mis besos con tus herrores You might also likeYo no quiero nada contigo, yo no se lo vas hacer  Alberto sobrino y el jorby, papo iriarte, ricky flow, chawa chawa Y ataca de nuevo el mr mr mr black, el asaro  Un clavo saca otro clavo Y ya tengo otra a mi lado Que si mi entiende, que me comprende Que me da besos que si me atiende  Un clavo saca otro clavo Y ya tengo otra a mi lado Que si mi entiende, que me comprende Que me da besos que si me atiende  Y echala y enganchala y sueltala y metele Metele metele metele metele metele metele  Cuando yo este en brazos de otra No me pidas que te perdone Tu fuiste la que te marchaste Mataste mis besos con tus herrores  Cuando yo este en brazos de otra No me pidas que te perdone Tu fuiste la que te marchaste Mataste mis besos con tus herrores Un clavo saca otro clavo Y ya tengo otra a mi lado Que si mi entiende, que me comprende Que me da besos que si me atiende  Un clavo saca otro clavo Y ya tengo otra a mi lado Que si mi entiende, que me comprende Que me da besos que si me atiende  Y echala y enganchala y sueltala y metele Metele metele metele metele metele metele1Embed\n",
              "2                                                                                                                                                                                                                                                                                                                                                                                                                                                                                                                                                                                                                                                                                                                                                                                           What if I If I were to confess You're the greatest Human I've ever met And if given the chance I will love you with all All that I am   What if you And me travelled the world What if you were my man What if I was your girl What if I understand What if this could be so different?   Can we make a promise? That whatever happens Like even if the love ends We will always be friends, oh 'Cause if I lost you (you) I'd lose myself too (too) So right before we dive in Can we make a promise, oh? You might also like Oh if we lose this moment We will keep our hearts open I'll never leave you behind You'll never leave me behind Oh if we're ever broken This promise is our potion I'll never leave you behind You'll never leave me behind   Can we make a promise? That whatever happens Like even if the love ends We will always be friends, oh 'Cause if I lost you (you) I'd lose myself too (too) So right before we dive in Can we make a promise, oh?   We'll be forever We'll be forever We'll be forever We'll be forever  'Cause if I lost you (you) I'd lose myself too (too) So right before we dive in Can we make a promise, oh?Embed\n",
              "Name: lyrics, dtype: object"
            ]
          },
          "metadata": {},
          "execution_count": 28
        }
      ]
    },
    {
      "cell_type": "markdown",
      "source": [
        "As we can see, there is the word 'Embed' at the end of each lyric, and sometimes there is even a number in front of it. So wen want to delete those aswell:"
      ],
      "metadata": {
        "id": "krWqwmiNfhHb"
      }
    },
    {
      "cell_type": "code",
      "source": [
        "df_final['lyrics'] = df_final['lyrics'].apply(lambda x: re.sub(r'\\d*Embed$', '', x))"
      ],
      "metadata": {
        "id": "IHl5Eq6ufjrQ"
      },
      "execution_count": 29,
      "outputs": []
    },
    {
      "cell_type": "code",
      "source": [
        "df_final.lyrics.head(2)"
      ],
      "metadata": {
        "id": "0UV76G-KfpFD",
        "outputId": "554c9a8c-e720-4a20-d294-ef805c165a42",
        "colab": {
          "base_uri": "https://localhost:8080/"
        }
      },
      "execution_count": 30,
      "outputs": [
        {
          "output_type": "execute_result",
          "data": {
            "text/plain": [
              "1    Este es el remix, el campeon de todo los pesos, el presidente del genero eh Y ataca de nuevo el mr mr mr black, el asaro  Cuando sienta el frio, yo no este Sentiras el vacio que dejo mi piel Cuando mis caricias, te hagan falta Y mi perfume ya no este en tu cama  Borrare en mi memoria si algun dia te bese Aquellos momentos que estuvimo en la intimidad Cuando me decias, que tu me querias Borrare mi pasado  Si algun dia te arrepientes, no vuelvas no llores por mi Me vas a recordar te quize tambien Pero tus penas fueron las peores  Cuando yo este en brazos de otra No me pidas que te perdone Tu fuiste la que te marchaste Mataste mis besos con tus herrores  Cuando yo este en brazos de otra No me pidas que te perdone Tu fuiste la que te marchaste Mataste mis besos con tus herrores You might also likeYo no quiero nada contigo, yo no se lo vas hacer  Alberto sobrino y el jorby, papo iriarte, ricky flow, chawa chawa Y ataca de nuevo el mr mr mr black, el asaro  Un clavo saca otro clavo Y ya tengo otra a mi lado Que si mi entiende, que me comprende Que me da besos que si me atiende  Un clavo saca otro clavo Y ya tengo otra a mi lado Que si mi entiende, que me comprende Que me da besos que si me atiende  Y echala y enganchala y sueltala y metele Metele metele metele metele metele metele  Cuando yo este en brazos de otra No me pidas que te perdone Tu fuiste la que te marchaste Mataste mis besos con tus herrores  Cuando yo este en brazos de otra No me pidas que te perdone Tu fuiste la que te marchaste Mataste mis besos con tus herrores Un clavo saca otro clavo Y ya tengo otra a mi lado Que si mi entiende, que me comprende Que me da besos que si me atiende  Un clavo saca otro clavo Y ya tengo otra a mi lado Que si mi entiende, que me comprende Que me da besos que si me atiende  Y echala y enganchala y sueltala y metele Metele metele metele metele metele metele\n",
              "2                                                                                                                                                                                                                                                                                                                                                                                                                                                                                                                                                                                                                                                                                                                                                                                          What if I If I were to confess You're the greatest Human I've ever met And if given the chance I will love you with all All that I am   What if you And me travelled the world What if you were my man What if I was your girl What if I understand What if this could be so different?   Can we make a promise? That whatever happens Like even if the love ends We will always be friends, oh 'Cause if I lost you (you) I'd lose myself too (too) So right before we dive in Can we make a promise, oh? You might also like Oh if we lose this moment We will keep our hearts open I'll never leave you behind You'll never leave me behind Oh if we're ever broken This promise is our potion I'll never leave you behind You'll never leave me behind   Can we make a promise? That whatever happens Like even if the love ends We will always be friends, oh 'Cause if I lost you (you) I'd lose myself too (too) So right before we dive in Can we make a promise, oh?   We'll be forever We'll be forever We'll be forever We'll be forever  'Cause if I lost you (you) I'd lose myself too (too) So right before we dive in Can we make a promise, oh?\n",
              "Name: lyrics, dtype: object"
            ]
          },
          "metadata": {},
          "execution_count": 30
        }
      ]
    },
    {
      "cell_type": "markdown",
      "source": [
        "As we can see, the lyrics of the first song is not in English. We said earlier that our analysis will solely focus on english songs, therefore we want to delete every non-english song from the dataset.\n",
        "\n",
        "\n",
        "For this we use the langdetect package. https://pypi.org/project/langdetect/"
      ],
      "metadata": {
        "id": "BgwHJFQTfu7d"
      }
    },
    {
      "cell_type": "code",
      "source": [
        "!pip install langdetect\n",
        "from langdetect import detect"
      ],
      "metadata": {
        "id": "yeUFNWXzfvay",
        "outputId": "27f79b57-c90b-484b-ee10-65ca5304bdcf",
        "colab": {
          "base_uri": "https://localhost:8080/"
        }
      },
      "execution_count": 31,
      "outputs": [
        {
          "output_type": "stream",
          "name": "stdout",
          "text": [
            "Collecting langdetect\n",
            "  Downloading langdetect-1.0.9.tar.gz (981 kB)\n",
            "\u001b[?25l     \u001b[90m━━━━━━━━━━━━━━━━━━━━━━━━━━━━━━━━━━━━━━━━\u001b[0m \u001b[32m0.0/981.5 kB\u001b[0m \u001b[31m?\u001b[0m eta \u001b[36m-:--:--\u001b[0m\r\u001b[2K     \u001b[91m━━━━━━━━━\u001b[0m\u001b[90m╺\u001b[0m\u001b[90m━━━━━━━━━━━━━━━━━━━━━━━━━━━━━\u001b[0m \u001b[32m235.5/981.5 kB\u001b[0m \u001b[31m6.8 MB/s\u001b[0m eta \u001b[36m0:00:01\u001b[0m\r\u001b[2K     \u001b[90m━━━━━━━━━━━━━━━━━━━━━━━━━━━━━━━━━━━━━━\u001b[0m \u001b[32m981.5/981.5 kB\u001b[0m \u001b[31m14.5 MB/s\u001b[0m eta \u001b[36m0:00:00\u001b[0m\n",
            "\u001b[?25h  Preparing metadata (setup.py) ... \u001b[?25l\u001b[?25hdone\n",
            "Requirement already satisfied: six in /usr/local/lib/python3.10/dist-packages (from langdetect) (1.16.0)\n",
            "Building wheels for collected packages: langdetect\n",
            "  Building wheel for langdetect (setup.py) ... \u001b[?25l\u001b[?25hdone\n",
            "  Created wheel for langdetect: filename=langdetect-1.0.9-py3-none-any.whl size=993224 sha256=801e1cef5a14aee1ae0994768bc73445d7a8f5e17f9fa546ce0a86256894eb67\n",
            "  Stored in directory: /root/.cache/pip/wheels/95/03/7d/59ea870c70ce4e5a370638b5462a7711ab78fba2f655d05106\n",
            "Successfully built langdetect\n",
            "Installing collected packages: langdetect\n",
            "Successfully installed langdetect-1.0.9\n"
          ]
        }
      ]
    },
    {
      "cell_type": "markdown",
      "source": [
        "We use the package to get a new column language and append the detected language"
      ],
      "metadata": {
        "id": "DswTjzEcf7T_"
      }
    },
    {
      "cell_type": "code",
      "source": [
        "df_final['lang'] = df_final['lyrics'].apply(lambda x: detect(x))"
      ],
      "metadata": {
        "id": "E1JPYIxif70h"
      },
      "execution_count": 32,
      "outputs": []
    },
    {
      "cell_type": "code",
      "source": [
        "df_final.lang.value_counts()\n",
        "# we can see that most of the lyrics are in english, so we drop all other rows and also drop the lang column, since we do not need it anymore"
      ],
      "metadata": {
        "id": "d6ZxusLWgA74",
        "outputId": "6d0efefa-bd53-4ec9-decc-679b2105888c",
        "colab": {
          "base_uri": "https://localhost:8080/"
        }
      },
      "execution_count": 33,
      "outputs": [
        {
          "output_type": "execute_result",
          "data": {
            "text/plain": [
              "en    2570\n",
              "id      54\n",
              "es      30\n",
              "so      16\n",
              "sw      12\n",
              "tl       9\n",
              "ca       5\n",
              "it       3\n",
              "et       3\n",
              "pt       3\n",
              "nl       2\n",
              "de       1\n",
              "cy       1\n",
              "fr       1\n",
              "fi       1\n",
              "sv       1\n",
              "Name: lang, dtype: int64"
            ]
          },
          "metadata": {},
          "execution_count": 33
        }
      ]
    },
    {
      "cell_type": "markdown",
      "source": [
        "We drop the column language and also all rows where the lyrics are not in english."
      ],
      "metadata": {
        "id": "MfSfy1iWhC0z"
      }
    },
    {
      "cell_type": "code",
      "source": [
        "df_final = df_final[(df_final.lang == 'en')].drop(columns = ['lang'])"
      ],
      "metadata": {
        "id": "0RItwwvShFoQ"
      },
      "execution_count": 34,
      "outputs": []
    },
    {
      "cell_type": "code",
      "source": [
        "df_final"
      ],
      "metadata": {
        "id": "yHlpkUs5hH0m",
        "outputId": "05217c7d-5f49-42dd-aed4-8ffebb354fa2",
        "colab": {
          "base_uri": "https://localhost:8080/",
          "height": 505
        }
      },
      "execution_count": 35,
      "outputs": [
        {
          "output_type": "execute_result",
          "data": {
            "text/plain": [
              "      popularity  duration_ms  danceability  energy  loudness  speechiness  \\\n",
              "2             36       295909         0.437   0.607    -5.704       0.0428   \n",
              "11            49       149973         0.578   0.295   -10.379       0.0294   \n",
              "12            66       310346         0.423   0.954    -3.157       0.0470   \n",
              "20            57       238373         0.480   0.970    -5.006       0.0595   \n",
              "25            13       158773         0.478   0.303    -9.352       0.0275   \n",
              "...          ...          ...           ...     ...       ...          ...   \n",
              "9986           1       284040         0.334   0.814   -14.175       0.0447   \n",
              "9987           0       131760         0.620   0.309    -9.209       0.0495   \n",
              "9990           3       181728         0.686   0.856    -2.717       0.0426   \n",
              "9993          29       229896         0.833   0.720   -13.455       0.2180   \n",
              "9994          60       213298         0.593   0.857    -7.088       0.0460   \n",
              "\n",
              "      acousticness  instrumentalness  liveness  valence  ...  \\\n",
              "2         0.332000          0.000000    0.1420    0.275  ...   \n",
              "11        0.792000          0.000000    0.1090    0.603  ...   \n",
              "12        0.002100          0.000000    0.1770    0.500  ...   \n",
              "20        0.000037          0.309000    0.2900    0.346  ...   \n",
              "25        0.497000          0.000000    0.0855    0.830  ...   \n",
              "...            ...               ...       ...      ...  ...   \n",
              "9986      0.024700          0.000593    0.5010    0.676  ...   \n",
              "9987      0.788000          0.000000    0.1460    0.664  ...   \n",
              "9990      0.089600          0.000000    0.0648    0.733  ...   \n",
              "9993      0.055400          0.000000    0.3390    0.759  ...   \n",
              "9994      0.000429          0.143000    0.1920    0.313  ...   \n",
              "\n",
              "      track_genre_techno track_genre_trance  track_genre_trip-hop  \\\n",
              "2                      0                  0                     0   \n",
              "11                     0                  0                     0   \n",
              "12                     0                  0                     0   \n",
              "20                     0                  0                     0   \n",
              "25                     0                  0                     0   \n",
              "...                  ...                ...                   ...   \n",
              "9986                   0                  0                     0   \n",
              "9987                   0                  0                     0   \n",
              "9990                   0                  0                     0   \n",
              "9993                   0                  0                     0   \n",
              "9994                   0                  0                     0   \n",
              "\n",
              "      track_genre_turkish  track_genre_world-music  time_signature_0  \\\n",
              "2                       0                        0                 0   \n",
              "11                      0                        0                 0   \n",
              "12                      0                        0                 0   \n",
              "20                      0                        0                 0   \n",
              "25                      0                        0                 0   \n",
              "...                   ...                      ...               ...   \n",
              "9986                    0                        0                 0   \n",
              "9987                    0                        0                 0   \n",
              "9990                    0                        0                 0   \n",
              "9993                    0                        0                 0   \n",
              "9994                    0                        0                 0   \n",
              "\n",
              "      time_signature_1  time_signature_3  time_signature_4  time_signature_5  \n",
              "2                    0                 0                 1                 0  \n",
              "11                   0                 0                 1                 0  \n",
              "12                   0                 0                 1                 0  \n",
              "20                   0                 0                 1                 0  \n",
              "25                   0                 0                 1                 0  \n",
              "...                ...               ...               ...               ...  \n",
              "9986                 0                 0                 1                 0  \n",
              "9987                 0                 0                 1                 0  \n",
              "9990                 0                 0                 1                 0  \n",
              "9993                 0                 0                 1                 0  \n",
              "9994                 0                 0                 1                 0  \n",
              "\n",
              "[2570 rows x 147 columns]"
            ],
            "text/html": [
              "\n",
              "  <div id=\"df-a1d5af9c-624a-4876-83e8-164e413465fa\">\n",
              "    <div class=\"colab-df-container\">\n",
              "      <div>\n",
              "<style scoped>\n",
              "    .dataframe tbody tr th:only-of-type {\n",
              "        vertical-align: middle;\n",
              "    }\n",
              "\n",
              "    .dataframe tbody tr th {\n",
              "        vertical-align: top;\n",
              "    }\n",
              "\n",
              "    .dataframe thead th {\n",
              "        text-align: right;\n",
              "    }\n",
              "</style>\n",
              "<table border=\"1\" class=\"dataframe\">\n",
              "  <thead>\n",
              "    <tr style=\"text-align: right;\">\n",
              "      <th></th>\n",
              "      <th>popularity</th>\n",
              "      <th>duration_ms</th>\n",
              "      <th>danceability</th>\n",
              "      <th>energy</th>\n",
              "      <th>loudness</th>\n",
              "      <th>speechiness</th>\n",
              "      <th>acousticness</th>\n",
              "      <th>instrumentalness</th>\n",
              "      <th>liveness</th>\n",
              "      <th>valence</th>\n",
              "      <th>...</th>\n",
              "      <th>track_genre_techno</th>\n",
              "      <th>track_genre_trance</th>\n",
              "      <th>track_genre_trip-hop</th>\n",
              "      <th>track_genre_turkish</th>\n",
              "      <th>track_genre_world-music</th>\n",
              "      <th>time_signature_0</th>\n",
              "      <th>time_signature_1</th>\n",
              "      <th>time_signature_3</th>\n",
              "      <th>time_signature_4</th>\n",
              "      <th>time_signature_5</th>\n",
              "    </tr>\n",
              "  </thead>\n",
              "  <tbody>\n",
              "    <tr>\n",
              "      <th>2</th>\n",
              "      <td>36</td>\n",
              "      <td>295909</td>\n",
              "      <td>0.437</td>\n",
              "      <td>0.607</td>\n",
              "      <td>-5.704</td>\n",
              "      <td>0.0428</td>\n",
              "      <td>0.332000</td>\n",
              "      <td>0.000000</td>\n",
              "      <td>0.1420</td>\n",
              "      <td>0.275</td>\n",
              "      <td>...</td>\n",
              "      <td>0</td>\n",
              "      <td>0</td>\n",
              "      <td>0</td>\n",
              "      <td>0</td>\n",
              "      <td>0</td>\n",
              "      <td>0</td>\n",
              "      <td>0</td>\n",
              "      <td>0</td>\n",
              "      <td>1</td>\n",
              "      <td>0</td>\n",
              "    </tr>\n",
              "    <tr>\n",
              "      <th>11</th>\n",
              "      <td>49</td>\n",
              "      <td>149973</td>\n",
              "      <td>0.578</td>\n",
              "      <td>0.295</td>\n",
              "      <td>-10.379</td>\n",
              "      <td>0.0294</td>\n",
              "      <td>0.792000</td>\n",
              "      <td>0.000000</td>\n",
              "      <td>0.1090</td>\n",
              "      <td>0.603</td>\n",
              "      <td>...</td>\n",
              "      <td>0</td>\n",
              "      <td>0</td>\n",
              "      <td>0</td>\n",
              "      <td>0</td>\n",
              "      <td>0</td>\n",
              "      <td>0</td>\n",
              "      <td>0</td>\n",
              "      <td>0</td>\n",
              "      <td>1</td>\n",
              "      <td>0</td>\n",
              "    </tr>\n",
              "    <tr>\n",
              "      <th>12</th>\n",
              "      <td>66</td>\n",
              "      <td>310346</td>\n",
              "      <td>0.423</td>\n",
              "      <td>0.954</td>\n",
              "      <td>-3.157</td>\n",
              "      <td>0.0470</td>\n",
              "      <td>0.002100</td>\n",
              "      <td>0.000000</td>\n",
              "      <td>0.1770</td>\n",
              "      <td>0.500</td>\n",
              "      <td>...</td>\n",
              "      <td>0</td>\n",
              "      <td>0</td>\n",
              "      <td>0</td>\n",
              "      <td>0</td>\n",
              "      <td>0</td>\n",
              "      <td>0</td>\n",
              "      <td>0</td>\n",
              "      <td>0</td>\n",
              "      <td>1</td>\n",
              "      <td>0</td>\n",
              "    </tr>\n",
              "    <tr>\n",
              "      <th>20</th>\n",
              "      <td>57</td>\n",
              "      <td>238373</td>\n",
              "      <td>0.480</td>\n",
              "      <td>0.970</td>\n",
              "      <td>-5.006</td>\n",
              "      <td>0.0595</td>\n",
              "      <td>0.000037</td>\n",
              "      <td>0.309000</td>\n",
              "      <td>0.2900</td>\n",
              "      <td>0.346</td>\n",
              "      <td>...</td>\n",
              "      <td>0</td>\n",
              "      <td>0</td>\n",
              "      <td>0</td>\n",
              "      <td>0</td>\n",
              "      <td>0</td>\n",
              "      <td>0</td>\n",
              "      <td>0</td>\n",
              "      <td>0</td>\n",
              "      <td>1</td>\n",
              "      <td>0</td>\n",
              "    </tr>\n",
              "    <tr>\n",
              "      <th>25</th>\n",
              "      <td>13</td>\n",
              "      <td>158773</td>\n",
              "      <td>0.478</td>\n",
              "      <td>0.303</td>\n",
              "      <td>-9.352</td>\n",
              "      <td>0.0275</td>\n",
              "      <td>0.497000</td>\n",
              "      <td>0.000000</td>\n",
              "      <td>0.0855</td>\n",
              "      <td>0.830</td>\n",
              "      <td>...</td>\n",
              "      <td>0</td>\n",
              "      <td>0</td>\n",
              "      <td>0</td>\n",
              "      <td>0</td>\n",
              "      <td>0</td>\n",
              "      <td>0</td>\n",
              "      <td>0</td>\n",
              "      <td>0</td>\n",
              "      <td>1</td>\n",
              "      <td>0</td>\n",
              "    </tr>\n",
              "    <tr>\n",
              "      <th>...</th>\n",
              "      <td>...</td>\n",
              "      <td>...</td>\n",
              "      <td>...</td>\n",
              "      <td>...</td>\n",
              "      <td>...</td>\n",
              "      <td>...</td>\n",
              "      <td>...</td>\n",
              "      <td>...</td>\n",
              "      <td>...</td>\n",
              "      <td>...</td>\n",
              "      <td>...</td>\n",
              "      <td>...</td>\n",
              "      <td>...</td>\n",
              "      <td>...</td>\n",
              "      <td>...</td>\n",
              "      <td>...</td>\n",
              "      <td>...</td>\n",
              "      <td>...</td>\n",
              "      <td>...</td>\n",
              "      <td>...</td>\n",
              "      <td>...</td>\n",
              "    </tr>\n",
              "    <tr>\n",
              "      <th>9986</th>\n",
              "      <td>1</td>\n",
              "      <td>284040</td>\n",
              "      <td>0.334</td>\n",
              "      <td>0.814</td>\n",
              "      <td>-14.175</td>\n",
              "      <td>0.0447</td>\n",
              "      <td>0.024700</td>\n",
              "      <td>0.000593</td>\n",
              "      <td>0.5010</td>\n",
              "      <td>0.676</td>\n",
              "      <td>...</td>\n",
              "      <td>0</td>\n",
              "      <td>0</td>\n",
              "      <td>0</td>\n",
              "      <td>0</td>\n",
              "      <td>0</td>\n",
              "      <td>0</td>\n",
              "      <td>0</td>\n",
              "      <td>0</td>\n",
              "      <td>1</td>\n",
              "      <td>0</td>\n",
              "    </tr>\n",
              "    <tr>\n",
              "      <th>9987</th>\n",
              "      <td>0</td>\n",
              "      <td>131760</td>\n",
              "      <td>0.620</td>\n",
              "      <td>0.309</td>\n",
              "      <td>-9.209</td>\n",
              "      <td>0.0495</td>\n",
              "      <td>0.788000</td>\n",
              "      <td>0.000000</td>\n",
              "      <td>0.1460</td>\n",
              "      <td>0.664</td>\n",
              "      <td>...</td>\n",
              "      <td>0</td>\n",
              "      <td>0</td>\n",
              "      <td>0</td>\n",
              "      <td>0</td>\n",
              "      <td>0</td>\n",
              "      <td>0</td>\n",
              "      <td>0</td>\n",
              "      <td>0</td>\n",
              "      <td>1</td>\n",
              "      <td>0</td>\n",
              "    </tr>\n",
              "    <tr>\n",
              "      <th>9990</th>\n",
              "      <td>3</td>\n",
              "      <td>181728</td>\n",
              "      <td>0.686</td>\n",
              "      <td>0.856</td>\n",
              "      <td>-2.717</td>\n",
              "      <td>0.0426</td>\n",
              "      <td>0.089600</td>\n",
              "      <td>0.000000</td>\n",
              "      <td>0.0648</td>\n",
              "      <td>0.733</td>\n",
              "      <td>...</td>\n",
              "      <td>0</td>\n",
              "      <td>0</td>\n",
              "      <td>0</td>\n",
              "      <td>0</td>\n",
              "      <td>0</td>\n",
              "      <td>0</td>\n",
              "      <td>0</td>\n",
              "      <td>0</td>\n",
              "      <td>1</td>\n",
              "      <td>0</td>\n",
              "    </tr>\n",
              "    <tr>\n",
              "      <th>9993</th>\n",
              "      <td>29</td>\n",
              "      <td>229896</td>\n",
              "      <td>0.833</td>\n",
              "      <td>0.720</td>\n",
              "      <td>-13.455</td>\n",
              "      <td>0.2180</td>\n",
              "      <td>0.055400</td>\n",
              "      <td>0.000000</td>\n",
              "      <td>0.3390</td>\n",
              "      <td>0.759</td>\n",
              "      <td>...</td>\n",
              "      <td>0</td>\n",
              "      <td>0</td>\n",
              "      <td>0</td>\n",
              "      <td>0</td>\n",
              "      <td>0</td>\n",
              "      <td>0</td>\n",
              "      <td>0</td>\n",
              "      <td>0</td>\n",
              "      <td>1</td>\n",
              "      <td>0</td>\n",
              "    </tr>\n",
              "    <tr>\n",
              "      <th>9994</th>\n",
              "      <td>60</td>\n",
              "      <td>213298</td>\n",
              "      <td>0.593</td>\n",
              "      <td>0.857</td>\n",
              "      <td>-7.088</td>\n",
              "      <td>0.0460</td>\n",
              "      <td>0.000429</td>\n",
              "      <td>0.143000</td>\n",
              "      <td>0.1920</td>\n",
              "      <td>0.313</td>\n",
              "      <td>...</td>\n",
              "      <td>0</td>\n",
              "      <td>0</td>\n",
              "      <td>0</td>\n",
              "      <td>0</td>\n",
              "      <td>0</td>\n",
              "      <td>0</td>\n",
              "      <td>0</td>\n",
              "      <td>0</td>\n",
              "      <td>1</td>\n",
              "      <td>0</td>\n",
              "    </tr>\n",
              "  </tbody>\n",
              "</table>\n",
              "<p>2570 rows × 147 columns</p>\n",
              "</div>\n",
              "      <button class=\"colab-df-convert\" onclick=\"convertToInteractive('df-a1d5af9c-624a-4876-83e8-164e413465fa')\"\n",
              "              title=\"Convert this dataframe to an interactive table.\"\n",
              "              style=\"display:none;\">\n",
              "        \n",
              "  <svg xmlns=\"http://www.w3.org/2000/svg\" height=\"24px\"viewBox=\"0 0 24 24\"\n",
              "       width=\"24px\">\n",
              "    <path d=\"M0 0h24v24H0V0z\" fill=\"none\"/>\n",
              "    <path d=\"M18.56 5.44l.94 2.06.94-2.06 2.06-.94-2.06-.94-.94-2.06-.94 2.06-2.06.94zm-11 1L8.5 8.5l.94-2.06 2.06-.94-2.06-.94L8.5 2.5l-.94 2.06-2.06.94zm10 10l.94 2.06.94-2.06 2.06-.94-2.06-.94-.94-2.06-.94 2.06-2.06.94z\"/><path d=\"M17.41 7.96l-1.37-1.37c-.4-.4-.92-.59-1.43-.59-.52 0-1.04.2-1.43.59L10.3 9.45l-7.72 7.72c-.78.78-.78 2.05 0 2.83L4 21.41c.39.39.9.59 1.41.59.51 0 1.02-.2 1.41-.59l7.78-7.78 2.81-2.81c.8-.78.8-2.07 0-2.86zM5.41 20L4 18.59l7.72-7.72 1.47 1.35L5.41 20z\"/>\n",
              "  </svg>\n",
              "      </button>\n",
              "      \n",
              "  <style>\n",
              "    .colab-df-container {\n",
              "      display:flex;\n",
              "      flex-wrap:wrap;\n",
              "      gap: 12px;\n",
              "    }\n",
              "\n",
              "    .colab-df-convert {\n",
              "      background-color: #E8F0FE;\n",
              "      border: none;\n",
              "      border-radius: 50%;\n",
              "      cursor: pointer;\n",
              "      display: none;\n",
              "      fill: #1967D2;\n",
              "      height: 32px;\n",
              "      padding: 0 0 0 0;\n",
              "      width: 32px;\n",
              "    }\n",
              "\n",
              "    .colab-df-convert:hover {\n",
              "      background-color: #E2EBFA;\n",
              "      box-shadow: 0px 1px 2px rgba(60, 64, 67, 0.3), 0px 1px 3px 1px rgba(60, 64, 67, 0.15);\n",
              "      fill: #174EA6;\n",
              "    }\n",
              "\n",
              "    [theme=dark] .colab-df-convert {\n",
              "      background-color: #3B4455;\n",
              "      fill: #D2E3FC;\n",
              "    }\n",
              "\n",
              "    [theme=dark] .colab-df-convert:hover {\n",
              "      background-color: #434B5C;\n",
              "      box-shadow: 0px 1px 3px 1px rgba(0, 0, 0, 0.15);\n",
              "      filter: drop-shadow(0px 1px 2px rgba(0, 0, 0, 0.3));\n",
              "      fill: #FFFFFF;\n",
              "    }\n",
              "  </style>\n",
              "\n",
              "      <script>\n",
              "        const buttonEl =\n",
              "          document.querySelector('#df-a1d5af9c-624a-4876-83e8-164e413465fa button.colab-df-convert');\n",
              "        buttonEl.style.display =\n",
              "          google.colab.kernel.accessAllowed ? 'block' : 'none';\n",
              "\n",
              "        async function convertToInteractive(key) {\n",
              "          const element = document.querySelector('#df-a1d5af9c-624a-4876-83e8-164e413465fa');\n",
              "          const dataTable =\n",
              "            await google.colab.kernel.invokeFunction('convertToInteractive',\n",
              "                                                     [key], {});\n",
              "          if (!dataTable) return;\n",
              "\n",
              "          const docLinkHtml = 'Like what you see? Visit the ' +\n",
              "            '<a target=\"_blank\" href=https://colab.research.google.com/notebooks/data_table.ipynb>data table notebook</a>'\n",
              "            + ' to learn more about interactive tables.';\n",
              "          element.innerHTML = '';\n",
              "          dataTable['output_type'] = 'display_data';\n",
              "          await google.colab.output.renderOutput(dataTable, element);\n",
              "          const docLink = document.createElement('div');\n",
              "          docLink.innerHTML = docLinkHtml;\n",
              "          element.appendChild(docLink);\n",
              "        }\n",
              "      </script>\n",
              "    </div>\n",
              "  </div>\n",
              "  "
            ]
          },
          "metadata": {},
          "execution_count": 35
        }
      ]
    },
    {
      "cell_type": "markdown",
      "source": [
        "Now we want to take a closer look at the length of the lyrics. First, we want to take a look at the longest lyrics of the dataset:"
      ],
      "metadata": {
        "id": "HEqZk3QMhLOz"
      }
    },
    {
      "cell_type": "code",
      "source": [
        "data_to_list = df_final['lyrics'].values.tolist()"
      ],
      "metadata": {
        "id": "xsLKUanEhL3-"
      },
      "execution_count": 36,
      "outputs": []
    },
    {
      "cell_type": "code",
      "source": [
        "data_to_list[:2]"
      ],
      "metadata": {
        "id": "A3eGGPyvhQpe",
        "outputId": "1badf13e-ef27-4726-8a82-4dca289b947f",
        "colab": {
          "base_uri": "https://localhost:8080/"
        }
      },
      "execution_count": 37,
      "outputs": [
        {
          "output_type": "execute_result",
          "data": {
            "text/plain": [
              "[\" What if I If I were to confess You're the greatest Human I've ever met And if given the chance I will love you with all All that I am   What if you And me travelled the world What if you were my man What if I was your girl What if I understand What if this could be so different?   Can we make a promise? That whatever happens Like even if the love ends We will always be friends, oh 'Cause if I lost you (you) I'd lose myself too (too) So right before we dive in Can we make a promise, oh? You might also like Oh if we lose this moment We will keep our hearts open I'll never leave you behind You'll never leave me behind Oh if we're ever broken This promise is our potion I'll never leave you behind You'll never leave me behind   Can we make a promise? That whatever happens Like even if the love ends We will always be friends, oh 'Cause if I lost you (you) I'd lose myself too (too) So right before we dive in Can we make a promise, oh?   We'll be forever We'll be forever We'll be forever We'll be forever  'Cause if I lost you (you) I'd lose myself too (too) So right before we dive in Can we make a promise, oh?\",\n",
              " \"Wo-oh yay yay Love you more than I can say I'll love you twice as much tomorrow Wo-oh, love you more than I can say  Wo-oh yay yay I miss you every single day Why must my life be filled with sorrow Wo-oh, love you more than I can say  Don't you know I need you so Tell me please, I gotta know Do you mean to make me cry Am I just another guy  Wo-oh yay yay Love you more than I can say I'll love you twice as much tomorrow Wo,oh, love you more than I can say  Don't you know I need you so Tell me please, I gotta know Do you mean to make me cry Am I just another guy  Wo-oh yay yay I love you more than I can say I'll love you twice as much tomorrow Wo-oh, love you more than I can sayYou might also like\"]"
            ]
          },
          "metadata": {},
          "execution_count": 37
        }
      ]
    },
    {
      "cell_type": "code",
      "source": [
        "def count_words_longest_element(word_list):\n",
        "    max_word_count = 0\n",
        "\n",
        "    for element in word_list:\n",
        "        words = element.split()\n",
        "        word_count = len(words)\n",
        "\n",
        "        if word_count > max_word_count:\n",
        "            max_word_count = word_count\n",
        "\n",
        "    return max_word_count\n",
        "\n",
        "longest_word_count = count_words_longest_element(data_to_list)\n",
        "print(\"Number of words in the longest element:\", longest_word_count)"
      ],
      "metadata": {
        "id": "_NLZnsZVhVJN",
        "outputId": "1e414d15-7ee8-44d9-9d7f-4b27f71558e8",
        "colab": {
          "base_uri": "https://localhost:8080/"
        }
      },
      "execution_count": 38,
      "outputs": [
        {
          "output_type": "stream",
          "name": "stdout",
          "text": [
            "Number of words in the longest element: 85152\n"
          ]
        }
      ]
    },
    {
      "cell_type": "markdown",
      "source": [
        "It seems like the longest lyrics contain almost 85000 words, which is not very realistic for a song. Since the average song is about 3 and a half minutes long, this would result in over 400 words per second.\n",
        "\n",
        "In September 2014, Eminem received an entry in the Guinness Book of World Records, the song 'Rap God' had held the record for the most words in a song. A total of 1560 words occur in 6:04 minutes, giving an average of 4.28 words per second.\n",
        "\n",
        "An Idea therefore would be to drop all the rows where the lyrics contain more than 2000 words, because it is unlikely that those are correct. But first, take a look how many there are:"
      ],
      "metadata": {
        "id": "pBvX2AzRhbuT"
      }
    },
    {
      "cell_type": "code",
      "source": [
        "def calculate_percentage(strings, max_word_count):\n",
        "    count = 0\n",
        "\n",
        "    for string in strings:\n",
        "        if len(string.split()) <= max_word_count:\n",
        "            count += 1\n",
        "\n",
        "    percentage = (count / len(strings)) * 100\n",
        "    return percentage\n",
        "\n"
      ],
      "metadata": {
        "id": "l70IlyjthcYv"
      },
      "execution_count": 39,
      "outputs": []
    },
    {
      "cell_type": "code",
      "source": [
        "percentage = calculate_percentage(data_to_list,2000)\n",
        "print(f\"Percentage of elements with word count of {2000} or less: {percentage}%\")"
      ],
      "metadata": {
        "id": "08qiz2nLhp3h",
        "outputId": "d4a18c6a-d9d0-459e-f944-44ff1f1b4ab4",
        "colab": {
          "base_uri": "https://localhost:8080/"
        }
      },
      "execution_count": 40,
      "outputs": [
        {
          "output_type": "stream",
          "name": "stdout",
          "text": [
            "Percentage of elements with word count of 2000 or less: 97.12062256809338%\n"
          ]
        }
      ]
    },
    {
      "cell_type": "markdown",
      "source": [
        "Since more than 97% of the dataset has lyrics shorter than 2000 words, we can drop those aswell."
      ],
      "metadata": {
        "id": "7Ac26UwFh54B"
      }
    },
    {
      "cell_type": "code",
      "source": [
        "# Calculate word count for each row\n",
        "df_final['WordCount'] = df_final['lyrics'].apply(lambda x: len(x.split()))\n",
        "\n",
        "# Filter the DataFrame based on word count condition\n",
        "df_final = df_final[df_final['WordCount'] <= 2000]"
      ],
      "metadata": {
        "id": "QaswLSZKh-SA"
      },
      "execution_count": 41,
      "outputs": []
    },
    {
      "cell_type": "markdown",
      "source": [
        "Let's plot the length of the lyrics to take a look:"
      ],
      "metadata": {
        "id": "oeIL8cTuiBgR"
      }
    },
    {
      "cell_type": "code",
      "source": [
        "import matplotlib.pyplot as plt\n",
        "\n",
        "word_counts = df_final['WordCount']\n",
        "# Calculate the frequency of each word count\n",
        "word_count_freq = word_counts.value_counts().sort_index()\n",
        "# Plot the frequency\n",
        "plt.figure(figsize=(10, 6))\n",
        "plt.bar(word_count_freq.index, word_count_freq.values)\n",
        "plt.xlabel('Word Count')\n",
        "plt.ylabel('Frequency')\n",
        "plt.title('Frequency of Word Counts')\n",
        "plt.show()"
      ],
      "metadata": {
        "id": "LCdxvhD_iZra",
        "outputId": "e5b0f716-163f-40a2-a8f1-eae9473df9e7",
        "colab": {
          "base_uri": "https://localhost:8080/",
          "height": 564
        }
      },
      "execution_count": 42,
      "outputs": [
        {
          "output_type": "display_data",
          "data": {
            "text/plain": [
              "<Figure size 1000x600 with 1 Axes>"
            ],
            "image/png": "[encoded data removed]"
          },
          "metadata": {}
        }
      ]
    },
    {
      "cell_type": "markdown",
      "source": [
        "Looks pretty good so far, so let's drop the wordcount column"
      ],
      "metadata": {
        "id": "fhgJaq_Bilss"
      }
    },
    {
      "cell_type": "code",
      "source": [
        "df_final = df_final.drop('WordCount', axis=1)"
      ],
      "metadata": {
        "id": "QM9TdZwlimEX"
      },
      "execution_count": 43,
      "outputs": []
    },
    {
      "cell_type": "markdown",
      "source": [
        "The last step in our data cleaning and preperation will be the removing of any punctuation from the lyrics column and to also convert all the strings to lowercase.\n",
        "We use the package spacy for this."
      ],
      "metadata": {
        "id": "ZiAKuVVmitkD"
      }
    },
    {
      "cell_type": "code",
      "source": [
        "!pip install -U spacy"
      ],
      "metadata": {
        "id": "E4uJB3Dxit6s",
        "outputId": "82ae26c3-adb9-4d7b-a1d4-20a6ced715a3",
        "colab": {
          "base_uri": "https://localhost:8080/"
        }
      },
      "execution_count": 44,
      "outputs": [
        {
          "output_type": "stream",
          "name": "stdout",
          "text": [
            "Requirement already satisfied: spacy in /usr/local/lib/python3.10/dist-packages (3.5.3)\n",
            "Requirement already satisfied: spacy-legacy<3.1.0,>=3.0.11 in /usr/local/lib/python3.10/dist-packages (from spacy) (3.0.12)\n",
            "Requirement already satisfied: spacy-loggers<2.0.0,>=1.0.0 in /usr/local/lib/python3.10/dist-packages (from spacy) (1.0.4)\n",
            "Requirement already satisfied: murmurhash<1.1.0,>=0.28.0 in /usr/local/lib/python3.10/dist-packages (from spacy) (1.0.9)\n",
            "Requirement already satisfied: cymem<2.1.0,>=2.0.2 in /usr/local/lib/python3.10/dist-packages (from spacy) (2.0.7)\n",
            "Requirement already satisfied: preshed<3.1.0,>=3.0.2 in /usr/local/lib/python3.10/dist-packages (from spacy) (3.0.8)\n",
            "Requirement already satisfied: thinc<8.2.0,>=8.1.8 in /usr/local/lib/python3.10/dist-packages (from spacy) (8.1.10)\n",
            "Requirement already satisfied: wasabi<1.2.0,>=0.9.1 in /usr/local/lib/python3.10/dist-packages (from spacy) (1.1.2)\n",
            "Requirement already satisfied: srsly<3.0.0,>=2.4.3 in /usr/local/lib/python3.10/dist-packages (from spacy) (2.4.6)\n",
            "Requirement already satisfied: catalogue<2.1.0,>=2.0.6 in /usr/local/lib/python3.10/dist-packages (from spacy) (2.0.8)\n",
            "Requirement already satisfied: typer<0.8.0,>=0.3.0 in /usr/local/lib/python3.10/dist-packages (from spacy) (0.7.0)\n",
            "Requirement already satisfied: pathy>=0.10.0 in /usr/local/lib/python3.10/dist-packages (from spacy) (0.10.2)\n",
            "Requirement already satisfied: smart-open<7.0.0,>=5.2.1 in /usr/local/lib/python3.10/dist-packages (from spacy) (6.3.0)\n",
            "Requirement already satisfied: tqdm<5.0.0,>=4.38.0 in /usr/local/lib/python3.10/dist-packages (from spacy) (4.65.0)\n",
            "Requirement already satisfied: numpy>=1.15.0 in /usr/local/lib/python3.10/dist-packages (from spacy) (1.22.4)\n",
            "Requirement already satisfied: requests<3.0.0,>=2.13.0 in /usr/local/lib/python3.10/dist-packages (from spacy) (2.27.1)\n",
            "Requirement already satisfied: pydantic!=1.8,!=1.8.1,<1.11.0,>=1.7.4 in /usr/local/lib/python3.10/dist-packages (from spacy) (1.10.9)\n",
            "Requirement already satisfied: jinja2 in /usr/local/lib/python3.10/dist-packages (from spacy) (3.1.2)\n",
            "Requirement already satisfied: setuptools in /usr/local/lib/python3.10/dist-packages (from spacy) (67.7.2)\n",
            "Requirement already satisfied: packaging>=20.0 in /usr/local/lib/python3.10/dist-packages (from spacy) (23.1)\n",
            "Requirement already satisfied: langcodes<4.0.0,>=3.2.0 in /usr/local/lib/python3.10/dist-packages (from spacy) (3.3.0)\n",
            "Requirement already satisfied: typing-extensions>=4.2.0 in /usr/local/lib/python3.10/dist-packages (from pydantic!=1.8,!=1.8.1,<1.11.0,>=1.7.4->spacy) (4.6.3)\n",
            "Requirement already satisfied: urllib3<1.27,>=1.21.1 in /usr/local/lib/python3.10/dist-packages (from requests<3.0.0,>=2.13.0->spacy) (1.26.16)\n",
            "Requirement already satisfied: certifi>=2017.4.17 in /usr/local/lib/python3.10/dist-packages (from requests<3.0.0,>=2.13.0->spacy) (2023.5.7)\n",
            "Requirement already satisfied: charset-normalizer~=2.0.0 in /usr/local/lib/python3.10/dist-packages (from requests<3.0.0,>=2.13.0->spacy) (2.0.12)\n",
            "Requirement already satisfied: idna<4,>=2.5 in /usr/local/lib/python3.10/dist-packages (from requests<3.0.0,>=2.13.0->spacy) (3.4)\n",
            "Requirement already satisfied: blis<0.8.0,>=0.7.8 in /usr/local/lib/python3.10/dist-packages (from thinc<8.2.0,>=8.1.8->spacy) (0.7.9)\n",
            "Requirement already satisfied: confection<1.0.0,>=0.0.1 in /usr/local/lib/python3.10/dist-packages (from thinc<8.2.0,>=8.1.8->spacy) (0.0.4)\n",
            "Requirement already satisfied: click<9.0.0,>=7.1.1 in /usr/local/lib/python3.10/dist-packages (from typer<0.8.0,>=0.3.0->spacy) (8.1.3)\n",
            "Requirement already satisfied: MarkupSafe>=2.0 in /usr/local/lib/python3.10/dist-packages (from jinja2->spacy) (2.1.3)\n"
          ]
        }
      ]
    },
    {
      "cell_type": "code",
      "source": [
        "df_final.lyrics = df_final.lyrics.str.lower()"
      ],
      "metadata": {
        "id": "En8GwQwyi1Ua"
      },
      "execution_count": 45,
      "outputs": []
    },
    {
      "cell_type": "code",
      "source": [
        "import spacy\n",
        "def remove_punctuation(text):\n",
        "    nlp = spacy.load(\"en_core_web_sm\")\n",
        "    doc = nlp(text)\n",
        "    output = [token for token in doc if not token.is_punct]\n",
        "    return ' '.join(token.text for token in output)\n",
        "\n"
      ],
      "metadata": {
        "id": "mWIWM5w6i5OR"
      },
      "execution_count": 46,
      "outputs": []
    },
    {
      "cell_type": "code",
      "source": [
        "#Warning! This code takes very long to run.\n",
        "df_final['lyrics'] = df_final['lyrics'].apply(remove_punctuation)"
      ],
      "metadata": {
        "id": "dHFLdNkai_0z",
        "outputId": "7bb23f91-df0f-4967-ba37-dc1fc2832d84",
        "colab": {
          "base_uri": "https://localhost:8080/",
          "height": 336
        }
      },
      "execution_count": 47,
      "outputs": [
        {
          "output_type": "error",
          "ename": "KeyboardInterrupt",
          "evalue": "ignored",
          "traceback": [
            "\u001b[0;31m---------------------------------------------------------------------------\u001b[0m",
            "\u001b[0;31mKeyboardInterrupt\u001b[0m                         Traceback (most recent call last)",
            "\u001b[0;32m<ipython-input-47-dcf21a55fa0c>\u001b[0m in \u001b[0;36m<cell line: 2>\u001b[0;34m()\u001b[0m\n\u001b[1;32m      1\u001b[0m \u001b[0;31m#Warning! This code takes very long to run.\u001b[0m\u001b[0;34m\u001b[0m\u001b[0;34m\u001b[0m\u001b[0m\n\u001b[0;32m----> 2\u001b[0;31m \u001b[0mdf_final\u001b[0m\u001b[0;34m[\u001b[0m\u001b[0;34m'lyrics'\u001b[0m\u001b[0;34m]\u001b[0m \u001b[0;34m=\u001b[0m \u001b[0mdf_final\u001b[0m\u001b[0;34m[\u001b[0m\u001b[0;34m'lyrics'\u001b[0m\u001b[0;34m]\u001b[0m\u001b[0;34m.\u001b[0m\u001b[0mapply\u001b[0m\u001b[0;34m(\u001b[0m\u001b[0mremove_punctuation\u001b[0m\u001b[0;34m)\u001b[0m\u001b[0;34m\u001b[0m\u001b[0;34m\u001b[0m\u001b[0m\n\u001b[0m",
            "\u001b[0;32m/usr/local/lib/python3.10/dist-packages/pandas/core/series.py\u001b[0m in \u001b[0;36mapply\u001b[0;34m(self, func, convert_dtype, args, **kwargs)\u001b[0m\n\u001b[1;32m   4769\u001b[0m         \u001b[0mdtype\u001b[0m\u001b[0;34m:\u001b[0m \u001b[0mfloat64\u001b[0m\u001b[0;34m\u001b[0m\u001b[0;34m\u001b[0m\u001b[0m\n\u001b[1;32m   4770\u001b[0m         \"\"\"\n\u001b[0;32m-> 4771\u001b[0;31m         \u001b[0;32mreturn\u001b[0m \u001b[0mSeriesApply\u001b[0m\u001b[0;34m(\u001b[0m\u001b[0mself\u001b[0m\u001b[0;34m,\u001b[0m \u001b[0mfunc\u001b[0m\u001b[0;34m,\u001b[0m \u001b[0mconvert_dtype\u001b[0m\u001b[0;34m,\u001b[0m \u001b[0margs\u001b[0m\u001b[0;34m,\u001b[0m \u001b[0mkwargs\u001b[0m\u001b[0;34m)\u001b[0m\u001b[0;34m.\u001b[0m\u001b[0mapply\u001b[0m\u001b[0;34m(\u001b[0m\u001b[0;34m)\u001b[0m\u001b[0;34m\u001b[0m\u001b[0;34m\u001b[0m\u001b[0m\n\u001b[0m\u001b[1;32m   4772\u001b[0m \u001b[0;34m\u001b[0m\u001b[0m\n\u001b[1;32m   4773\u001b[0m     def _reduce(\n",
            "\u001b[0;32m/usr/local/lib/python3.10/dist-packages/pandas/core/apply.py\u001b[0m in \u001b[0;36mapply\u001b[0;34m(self)\u001b[0m\n\u001b[1;32m   1121\u001b[0m \u001b[0;34m\u001b[0m\u001b[0m\n\u001b[1;32m   1122\u001b[0m         \u001b[0;31m# self.f is Callable\u001b[0m\u001b[0;34m\u001b[0m\u001b[0;34m\u001b[0m\u001b[0m\n\u001b[0;32m-> 1123\u001b[0;31m         \u001b[0;32mreturn\u001b[0m \u001b[0mself\u001b[0m\u001b[0;34m.\u001b[0m\u001b[0mapply_standard\u001b[0m\u001b[0;34m(\u001b[0m\u001b[0;34m)\u001b[0m\u001b[0;34m\u001b[0m\u001b[0;34m\u001b[0m\u001b[0m\n\u001b[0m\u001b[1;32m   1124\u001b[0m \u001b[0;34m\u001b[0m\u001b[0m\n\u001b[1;32m   1125\u001b[0m     \u001b[0;32mdef\u001b[0m \u001b[0magg\u001b[0m\u001b[0;34m(\u001b[0m\u001b[0mself\u001b[0m\u001b[0;34m)\u001b[0m\u001b[0;34m:\u001b[0m\u001b[0;34m\u001b[0m\u001b[0;34m\u001b[0m\u001b[0m\n",
            "\u001b[0;32m/usr/local/lib/python3.10/dist-packages/pandas/core/apply.py\u001b[0m in \u001b[0;36mapply_standard\u001b[0;34m(self)\u001b[0m\n\u001b[1;32m   1172\u001b[0m             \u001b[0;32melse\u001b[0m\u001b[0;34m:\u001b[0m\u001b[0;34m\u001b[0m\u001b[0;34m\u001b[0m\u001b[0m\n\u001b[1;32m   1173\u001b[0m                 \u001b[0mvalues\u001b[0m \u001b[0;34m=\u001b[0m \u001b[0mobj\u001b[0m\u001b[0;34m.\u001b[0m\u001b[0mastype\u001b[0m\u001b[0;34m(\u001b[0m\u001b[0mobject\u001b[0m\u001b[0;34m)\u001b[0m\u001b[0;34m.\u001b[0m\u001b[0m_values\u001b[0m\u001b[0;34m\u001b[0m\u001b[0;34m\u001b[0m\u001b[0m\n\u001b[0;32m-> 1174\u001b[0;31m                 mapped = lib.map_infer(\n\u001b[0m\u001b[1;32m   1175\u001b[0m                     \u001b[0mvalues\u001b[0m\u001b[0;34m,\u001b[0m\u001b[0;34m\u001b[0m\u001b[0;34m\u001b[0m\u001b[0m\n\u001b[1;32m   1176\u001b[0m                     \u001b[0mf\u001b[0m\u001b[0;34m,\u001b[0m\u001b[0;34m\u001b[0m\u001b[0;34m\u001b[0m\u001b[0m\n",
            "\u001b[0;32m/usr/local/lib/python3.10/dist-packages/pandas/_libs/lib.pyx\u001b[0m in \u001b[0;36mpandas._libs.lib.map_infer\u001b[0;34m()\u001b[0m\n",
            "\u001b[0;32m<ipython-input-46-2c22e3a780dc>\u001b[0m in \u001b[0;36mremove_punctuation\u001b[0;34m(text)\u001b[0m\n\u001b[1;32m      1\u001b[0m \u001b[0;32mimport\u001b[0m \u001b[0mspacy\u001b[0m\u001b[0;34m\u001b[0m\u001b[0;34m\u001b[0m\u001b[0m\n\u001b[1;32m      2\u001b[0m \u001b[0;32mdef\u001b[0m \u001b[0mremove_punctuation\u001b[0m\u001b[0;34m(\u001b[0m\u001b[0mtext\u001b[0m\u001b[0;34m)\u001b[0m\u001b[0;34m:\u001b[0m\u001b[0;34m\u001b[0m\u001b[0;34m\u001b[0m\u001b[0m\n\u001b[0;32m----> 3\u001b[0;31m     \u001b[0mnlp\u001b[0m \u001b[0;34m=\u001b[0m \u001b[0mspacy\u001b[0m\u001b[0;34m.\u001b[0m\u001b[0mload\u001b[0m\u001b[0;34m(\u001b[0m\u001b[0;34m\"en_core_web_sm\"\u001b[0m\u001b[0;34m)\u001b[0m\u001b[0;34m\u001b[0m\u001b[0;34m\u001b[0m\u001b[0m\n\u001b[0m\u001b[1;32m      4\u001b[0m     \u001b[0mdoc\u001b[0m \u001b[0;34m=\u001b[0m \u001b[0mnlp\u001b[0m\u001b[0;34m(\u001b[0m\u001b[0mtext\u001b[0m\u001b[0;34m)\u001b[0m\u001b[0;34m\u001b[0m\u001b[0;34m\u001b[0m\u001b[0m\n\u001b[1;32m      5\u001b[0m     \u001b[0moutput\u001b[0m \u001b[0;34m=\u001b[0m \u001b[0;34m[\u001b[0m\u001b[0mtoken\u001b[0m \u001b[0;32mfor\u001b[0m \u001b[0mtoken\u001b[0m \u001b[0;32min\u001b[0m \u001b[0mdoc\u001b[0m \u001b[0;32mif\u001b[0m \u001b[0;32mnot\u001b[0m \u001b[0mtoken\u001b[0m\u001b[0;34m.\u001b[0m\u001b[0mis_punct\u001b[0m\u001b[0;34m]\u001b[0m\u001b[0;34m\u001b[0m\u001b[0;34m\u001b[0m\u001b[0m\n",
            "\u001b[0;32m/usr/local/lib/python3.10/dist-packages/spacy/__init__.py\u001b[0m in \u001b[0;36mload\u001b[0;34m(name, vocab, disable, enable, exclude, config)\u001b[0m\n\u001b[1;32m     52\u001b[0m     \u001b[0mRETURNS\u001b[0m \u001b[0;34m(\u001b[0m\u001b[0mLanguage\u001b[0m\u001b[0;34m)\u001b[0m\u001b[0;34m:\u001b[0m \u001b[0mThe\u001b[0m \u001b[0mloaded\u001b[0m \u001b[0mnlp\u001b[0m \u001b[0mobject\u001b[0m\u001b[0;34m.\u001b[0m\u001b[0;34m\u001b[0m\u001b[0;34m\u001b[0m\u001b[0m\n\u001b[1;32m     53\u001b[0m     \"\"\"\n\u001b[0;32m---> 54\u001b[0;31m     return util.load_model(\n\u001b[0m\u001b[1;32m     55\u001b[0m         \u001b[0mname\u001b[0m\u001b[0;34m,\u001b[0m\u001b[0;34m\u001b[0m\u001b[0;34m\u001b[0m\u001b[0m\n\u001b[1;32m     56\u001b[0m         \u001b[0mvocab\u001b[0m\u001b[0;34m=\u001b[0m\u001b[0mvocab\u001b[0m\u001b[0;34m,\u001b[0m\u001b[0;34m\u001b[0m\u001b[0;34m\u001b[0m\u001b[0m\n",
            "\u001b[0;32m/usr/local/lib/python3.10/dist-packages/spacy/util.py\u001b[0m in \u001b[0;36mload_model\u001b[0;34m(name, vocab, disable, enable, exclude, config)\u001b[0m\n\u001b[1;32m    440\u001b[0m             \u001b[0;32mreturn\u001b[0m \u001b[0mget_lang_class\u001b[0m\u001b[0;34m(\u001b[0m\u001b[0mname\u001b[0m\u001b[0;34m.\u001b[0m\u001b[0mreplace\u001b[0m\u001b[0;34m(\u001b[0m\u001b[0;34m\"blank:\"\u001b[0m\u001b[0;34m,\u001b[0m \u001b[0;34m\"\"\u001b[0m\u001b[0;34m)\u001b[0m\u001b[0;34m)\u001b[0m\u001b[0;34m(\u001b[0m\u001b[0;34m)\u001b[0m\u001b[0;34m\u001b[0m\u001b[0;34m\u001b[0m\u001b[0m\n\u001b[1;32m    441\u001b[0m         \u001b[0;32mif\u001b[0m \u001b[0mis_package\u001b[0m\u001b[0;34m(\u001b[0m\u001b[0mname\u001b[0m\u001b[0;34m)\u001b[0m\u001b[0;34m:\u001b[0m  \u001b[0;31m# installed as package\u001b[0m\u001b[0;34m\u001b[0m\u001b[0;34m\u001b[0m\u001b[0m\n\u001b[0;32m--> 442\u001b[0;31m             \u001b[0;32mreturn\u001b[0m \u001b[0mload_model_from_package\u001b[0m\u001b[0;34m(\u001b[0m\u001b[0mname\u001b[0m\u001b[0;34m,\u001b[0m \u001b[0;34m**\u001b[0m\u001b[0mkwargs\u001b[0m\u001b[0;34m)\u001b[0m  \u001b[0;31m# type: ignore[arg-type]\u001b[0m\u001b[0;34m\u001b[0m\u001b[0;34m\u001b[0m\u001b[0m\n\u001b[0m\u001b[1;32m    443\u001b[0m         \u001b[0;32mif\u001b[0m \u001b[0mPath\u001b[0m\u001b[0;34m(\u001b[0m\u001b[0mname\u001b[0m\u001b[0;34m)\u001b[0m\u001b[0;34m.\u001b[0m\u001b[0mexists\u001b[0m\u001b[0;34m(\u001b[0m\u001b[0;34m)\u001b[0m\u001b[0;34m:\u001b[0m  \u001b[0;31m# path to model data directory\u001b[0m\u001b[0;34m\u001b[0m\u001b[0;34m\u001b[0m\u001b[0m\n\u001b[1;32m    444\u001b[0m             \u001b[0;32mreturn\u001b[0m \u001b[0mload_model_from_path\u001b[0m\u001b[0;34m(\u001b[0m\u001b[0mPath\u001b[0m\u001b[0;34m(\u001b[0m\u001b[0mname\u001b[0m\u001b[0;34m)\u001b[0m\u001b[0;34m,\u001b[0m \u001b[0;34m**\u001b[0m\u001b[0mkwargs\u001b[0m\u001b[0;34m)\u001b[0m  \u001b[0;31m# type: ignore[arg-type]\u001b[0m\u001b[0;34m\u001b[0m\u001b[0;34m\u001b[0m\u001b[0m\n",
            "\u001b[0;32m/usr/local/lib/python3.10/dist-packages/spacy/util.py\u001b[0m in \u001b[0;36mload_model_from_package\u001b[0;34m(name, vocab, disable, enable, exclude, config)\u001b[0m\n\u001b[1;32m    476\u001b[0m     \"\"\"\n\u001b[1;32m    477\u001b[0m     \u001b[0mcls\u001b[0m \u001b[0;34m=\u001b[0m \u001b[0mimportlib\u001b[0m\u001b[0;34m.\u001b[0m\u001b[0mimport_module\u001b[0m\u001b[0;34m(\u001b[0m\u001b[0mname\u001b[0m\u001b[0;34m)\u001b[0m\u001b[0;34m\u001b[0m\u001b[0;34m\u001b[0m\u001b[0m\n\u001b[0;32m--> 478\u001b[0;31m     \u001b[0;32mreturn\u001b[0m \u001b[0mcls\u001b[0m\u001b[0;34m.\u001b[0m\u001b[0mload\u001b[0m\u001b[0;34m(\u001b[0m\u001b[0mvocab\u001b[0m\u001b[0;34m=\u001b[0m\u001b[0mvocab\u001b[0m\u001b[0;34m,\u001b[0m \u001b[0mdisable\u001b[0m\u001b[0;34m=\u001b[0m\u001b[0mdisable\u001b[0m\u001b[0;34m,\u001b[0m \u001b[0menable\u001b[0m\u001b[0;34m=\u001b[0m\u001b[0menable\u001b[0m\u001b[0;34m,\u001b[0m \u001b[0mexclude\u001b[0m\u001b[0;34m=\u001b[0m\u001b[0mexclude\u001b[0m\u001b[0;34m,\u001b[0m \u001b[0mconfig\u001b[0m\u001b[0;34m=\u001b[0m\u001b[0mconfig\u001b[0m\u001b[0;34m)\u001b[0m  \u001b[0;31m# type: ignore[attr-defined]\u001b[0m\u001b[0;34m\u001b[0m\u001b[0;34m\u001b[0m\u001b[0m\n\u001b[0m\u001b[1;32m    479\u001b[0m \u001b[0;34m\u001b[0m\u001b[0m\n\u001b[1;32m    480\u001b[0m \u001b[0;34m\u001b[0m\u001b[0m\n",
            "\u001b[0;32m/usr/local/lib/python3.10/dist-packages/en_core_web_sm/__init__.py\u001b[0m in \u001b[0;36mload\u001b[0;34m(**overrides)\u001b[0m\n\u001b[1;32m      8\u001b[0m \u001b[0;34m\u001b[0m\u001b[0m\n\u001b[1;32m      9\u001b[0m \u001b[0;32mdef\u001b[0m \u001b[0mload\u001b[0m\u001b[0;34m(\u001b[0m\u001b[0;34m**\u001b[0m\u001b[0moverrides\u001b[0m\u001b[0;34m)\u001b[0m\u001b[0;34m:\u001b[0m\u001b[0;34m\u001b[0m\u001b[0;34m\u001b[0m\u001b[0m\n\u001b[0;32m---> 10\u001b[0;31m     \u001b[0;32mreturn\u001b[0m \u001b[0mload_model_from_init_py\u001b[0m\u001b[0;34m(\u001b[0m\u001b[0m__file__\u001b[0m\u001b[0;34m,\u001b[0m \u001b[0;34m**\u001b[0m\u001b[0moverrides\u001b[0m\u001b[0;34m)\u001b[0m\u001b[0;34m\u001b[0m\u001b[0;34m\u001b[0m\u001b[0m\n\u001b[0m",
            "\u001b[0;32m/usr/local/lib/python3.10/dist-packages/spacy/util.py\u001b[0m in \u001b[0;36mload_model_from_init_py\u001b[0;34m(init_file, vocab, disable, enable, exclude, config)\u001b[0m\n\u001b[1;32m    657\u001b[0m     \u001b[0;32mif\u001b[0m \u001b[0;32mnot\u001b[0m \u001b[0mmodel_path\u001b[0m\u001b[0;34m.\u001b[0m\u001b[0mexists\u001b[0m\u001b[0;34m(\u001b[0m\u001b[0;34m)\u001b[0m\u001b[0;34m:\u001b[0m\u001b[0;34m\u001b[0m\u001b[0;34m\u001b[0m\u001b[0m\n\u001b[1;32m    658\u001b[0m         \u001b[0;32mraise\u001b[0m \u001b[0mIOError\u001b[0m\u001b[0;34m(\u001b[0m\u001b[0mErrors\u001b[0m\u001b[0;34m.\u001b[0m\u001b[0mE052\u001b[0m\u001b[0;34m.\u001b[0m\u001b[0mformat\u001b[0m\u001b[0;34m(\u001b[0m\u001b[0mpath\u001b[0m\u001b[0;34m=\u001b[0m\u001b[0mdata_path\u001b[0m\u001b[0;34m)\u001b[0m\u001b[0;34m)\u001b[0m\u001b[0;34m\u001b[0m\u001b[0;34m\u001b[0m\u001b[0m\n\u001b[0;32m--> 659\u001b[0;31m     return load_model_from_path(\n\u001b[0m\u001b[1;32m    660\u001b[0m         \u001b[0mdata_path\u001b[0m\u001b[0;34m,\u001b[0m\u001b[0;34m\u001b[0m\u001b[0;34m\u001b[0m\u001b[0m\n\u001b[1;32m    661\u001b[0m         \u001b[0mvocab\u001b[0m\u001b[0;34m=\u001b[0m\u001b[0mvocab\u001b[0m\u001b[0;34m,\u001b[0m\u001b[0;34m\u001b[0m\u001b[0;34m\u001b[0m\u001b[0m\n",
            "\u001b[0;32m/usr/local/lib/python3.10/dist-packages/spacy/util.py\u001b[0m in \u001b[0;36mload_model_from_path\u001b[0;34m(model_path, meta, vocab, disable, enable, exclude, config)\u001b[0m\n\u001b[1;32m    522\u001b[0m         \u001b[0mmeta\u001b[0m\u001b[0;34m=\u001b[0m\u001b[0mmeta\u001b[0m\u001b[0;34m,\u001b[0m\u001b[0;34m\u001b[0m\u001b[0;34m\u001b[0m\u001b[0m\n\u001b[1;32m    523\u001b[0m     )\n\u001b[0;32m--> 524\u001b[0;31m     \u001b[0;32mreturn\u001b[0m \u001b[0mnlp\u001b[0m\u001b[0;34m.\u001b[0m\u001b[0mfrom_disk\u001b[0m\u001b[0;34m(\u001b[0m\u001b[0mmodel_path\u001b[0m\u001b[0;34m,\u001b[0m \u001b[0mexclude\u001b[0m\u001b[0;34m=\u001b[0m\u001b[0mexclude\u001b[0m\u001b[0;34m,\u001b[0m \u001b[0moverrides\u001b[0m\u001b[0;34m=\u001b[0m\u001b[0moverrides\u001b[0m\u001b[0;34m)\u001b[0m\u001b[0;34m\u001b[0m\u001b[0;34m\u001b[0m\u001b[0m\n\u001b[0m\u001b[1;32m    525\u001b[0m \u001b[0;34m\u001b[0m\u001b[0m\n\u001b[1;32m    526\u001b[0m \u001b[0;34m\u001b[0m\u001b[0m\n",
            "\u001b[0;32m/usr/local/lib/python3.10/dist-packages/spacy/language.py\u001b[0m in \u001b[0;36mfrom_disk\u001b[0;34m(self, path, exclude, overrides)\u001b[0m\n\u001b[1;32m   2123\u001b[0m             \u001b[0;31m# Convert to list here in case exclude is (default) tuple\u001b[0m\u001b[0;34m\u001b[0m\u001b[0;34m\u001b[0m\u001b[0m\n\u001b[1;32m   2124\u001b[0m             \u001b[0mexclude\u001b[0m \u001b[0;34m=\u001b[0m \u001b[0mlist\u001b[0m\u001b[0;34m(\u001b[0m\u001b[0mexclude\u001b[0m\u001b[0;34m)\u001b[0m \u001b[0;34m+\u001b[0m \u001b[0;34m[\u001b[0m\u001b[0;34m\"vocab\"\u001b[0m\u001b[0;34m]\u001b[0m\u001b[0;34m\u001b[0m\u001b[0;34m\u001b[0m\u001b[0m\n\u001b[0;32m-> 2125\u001b[0;31m         \u001b[0mutil\u001b[0m\u001b[0;34m.\u001b[0m\u001b[0mfrom_disk\u001b[0m\u001b[0;34m(\u001b[0m\u001b[0mpath\u001b[0m\u001b[0;34m,\u001b[0m \u001b[0mdeserializers\u001b[0m\u001b[0;34m,\u001b[0m \u001b[0mexclude\u001b[0m\u001b[0;34m)\u001b[0m  \u001b[0;31m# type: ignore[arg-type]\u001b[0m\u001b[0;34m\u001b[0m\u001b[0;34m\u001b[0m\u001b[0m\n\u001b[0m\u001b[1;32m   2126\u001b[0m         \u001b[0mself\u001b[0m\u001b[0;34m.\u001b[0m\u001b[0m_path\u001b[0m \u001b[0;34m=\u001b[0m \u001b[0mpath\u001b[0m  \u001b[0;31m# type: ignore[assignment]\u001b[0m\u001b[0;34m\u001b[0m\u001b[0;34m\u001b[0m\u001b[0m\n\u001b[1;32m   2127\u001b[0m         \u001b[0mself\u001b[0m\u001b[0;34m.\u001b[0m\u001b[0m_link_components\u001b[0m\u001b[0;34m(\u001b[0m\u001b[0;34m)\u001b[0m\u001b[0;34m\u001b[0m\u001b[0;34m\u001b[0m\u001b[0m\n",
            "\u001b[0;32m/usr/local/lib/python3.10/dist-packages/spacy/util.py\u001b[0m in \u001b[0;36mfrom_disk\u001b[0;34m(path, readers, exclude)\u001b[0m\n\u001b[1;32m   1367\u001b[0m         \u001b[0;31m# Split to support file names like meta.json\u001b[0m\u001b[0;34m\u001b[0m\u001b[0;34m\u001b[0m\u001b[0m\n\u001b[1;32m   1368\u001b[0m         \u001b[0;32mif\u001b[0m \u001b[0mkey\u001b[0m\u001b[0;34m.\u001b[0m\u001b[0msplit\u001b[0m\u001b[0;34m(\u001b[0m\u001b[0;34m\".\"\u001b[0m\u001b[0;34m)\u001b[0m\u001b[0;34m[\u001b[0m\u001b[0;36m0\u001b[0m\u001b[0;34m]\u001b[0m \u001b[0;32mnot\u001b[0m \u001b[0;32min\u001b[0m \u001b[0mexclude\u001b[0m\u001b[0;34m:\u001b[0m\u001b[0;34m\u001b[0m\u001b[0;34m\u001b[0m\u001b[0m\n\u001b[0;32m-> 1369\u001b[0;31m             \u001b[0mreader\u001b[0m\u001b[0;34m(\u001b[0m\u001b[0mpath\u001b[0m \u001b[0;34m/\u001b[0m \u001b[0mkey\u001b[0m\u001b[0;34m)\u001b[0m\u001b[0;34m\u001b[0m\u001b[0;34m\u001b[0m\u001b[0m\n\u001b[0m\u001b[1;32m   1370\u001b[0m     \u001b[0;32mreturn\u001b[0m \u001b[0mpath\u001b[0m\u001b[0;34m\u001b[0m\u001b[0;34m\u001b[0m\u001b[0m\n\u001b[1;32m   1371\u001b[0m \u001b[0;34m\u001b[0m\u001b[0m\n",
            "\u001b[0;32m/usr/local/lib/python3.10/dist-packages/spacy/language.py\u001b[0m in \u001b[0;36mdeserialize_vocab\u001b[0;34m(path)\u001b[0m\n\u001b[1;32m   2099\u001b[0m         \u001b[0;32mdef\u001b[0m \u001b[0mdeserialize_vocab\u001b[0m\u001b[0;34m(\u001b[0m\u001b[0mpath\u001b[0m\u001b[0;34m:\u001b[0m \u001b[0mPath\u001b[0m\u001b[0;34m)\u001b[0m \u001b[0;34m->\u001b[0m \u001b[0;32mNone\u001b[0m\u001b[0;34m:\u001b[0m\u001b[0;34m\u001b[0m\u001b[0;34m\u001b[0m\u001b[0m\n\u001b[1;32m   2100\u001b[0m             \u001b[0;32mif\u001b[0m \u001b[0mpath\u001b[0m\u001b[0;34m.\u001b[0m\u001b[0mexists\u001b[0m\u001b[0;34m(\u001b[0m\u001b[0;34m)\u001b[0m\u001b[0;34m:\u001b[0m\u001b[0;34m\u001b[0m\u001b[0;34m\u001b[0m\u001b[0m\n\u001b[0;32m-> 2101\u001b[0;31m                 \u001b[0mself\u001b[0m\u001b[0;34m.\u001b[0m\u001b[0mvocab\u001b[0m\u001b[0;34m.\u001b[0m\u001b[0mfrom_disk\u001b[0m\u001b[0;34m(\u001b[0m\u001b[0mpath\u001b[0m\u001b[0;34m,\u001b[0m \u001b[0mexclude\u001b[0m\u001b[0;34m=\u001b[0m\u001b[0mexclude\u001b[0m\u001b[0;34m)\u001b[0m\u001b[0;34m\u001b[0m\u001b[0;34m\u001b[0m\u001b[0m\n\u001b[0m\u001b[1;32m   2102\u001b[0m \u001b[0;34m\u001b[0m\u001b[0m\n\u001b[1;32m   2103\u001b[0m         \u001b[0mpath\u001b[0m \u001b[0;34m=\u001b[0m \u001b[0mutil\u001b[0m\u001b[0;34m.\u001b[0m\u001b[0mensure_path\u001b[0m\u001b[0;34m(\u001b[0m\u001b[0mpath\u001b[0m\u001b[0;34m)\u001b[0m\u001b[0;34m\u001b[0m\u001b[0;34m\u001b[0m\u001b[0m\n",
            "\u001b[0;32m/usr/local/lib/python3.10/dist-packages/spacy/vocab.pyx\u001b[0m in \u001b[0;36mspacy.vocab.Vocab.from_disk\u001b[0;34m()\u001b[0m\n",
            "\u001b[0;32m/usr/local/lib/python3.10/dist-packages/spacy/strings.pyx\u001b[0m in \u001b[0;36mspacy.strings.StringStore.from_disk\u001b[0;34m()\u001b[0m\n",
            "\u001b[0;32m/usr/local/lib/python3.10/dist-packages/srsly/_json_api.py\u001b[0m in \u001b[0;36mread_json\u001b[0;34m(path)\u001b[0m\n\u001b[1;32m     51\u001b[0m     \u001b[0mfile_path\u001b[0m \u001b[0;34m=\u001b[0m \u001b[0mforce_path\u001b[0m\u001b[0;34m(\u001b[0m\u001b[0mpath\u001b[0m\u001b[0;34m)\u001b[0m\u001b[0;34m\u001b[0m\u001b[0;34m\u001b[0m\u001b[0m\n\u001b[1;32m     52\u001b[0m     \u001b[0;32mwith\u001b[0m \u001b[0mfile_path\u001b[0m\u001b[0;34m.\u001b[0m\u001b[0mopen\u001b[0m\u001b[0;34m(\u001b[0m\u001b[0;34m\"r\"\u001b[0m\u001b[0;34m,\u001b[0m \u001b[0mencoding\u001b[0m\u001b[0;34m=\u001b[0m\u001b[0;34m\"utf8\"\u001b[0m\u001b[0;34m)\u001b[0m \u001b[0;32mas\u001b[0m \u001b[0mf\u001b[0m\u001b[0;34m:\u001b[0m\u001b[0;34m\u001b[0m\u001b[0;34m\u001b[0m\u001b[0m\n\u001b[0;32m---> 53\u001b[0;31m         \u001b[0;32mreturn\u001b[0m \u001b[0mujson\u001b[0m\u001b[0;34m.\u001b[0m\u001b[0mload\u001b[0m\u001b[0;34m(\u001b[0m\u001b[0mf\u001b[0m\u001b[0;34m)\u001b[0m\u001b[0;34m\u001b[0m\u001b[0;34m\u001b[0m\u001b[0m\n\u001b[0m\u001b[1;32m     54\u001b[0m \u001b[0;34m\u001b[0m\u001b[0m\n\u001b[1;32m     55\u001b[0m \u001b[0;34m\u001b[0m\u001b[0m\n",
            "\u001b[0;31mKeyboardInterrupt\u001b[0m: "
          ]
        }
      ]
    },
    {
      "cell_type": "markdown",
      "source": [
        "Since the code takes very long to run, we can try to use \"re\" instead:\n",
        "\n",
        "Spacy removes all punctuation except the apostrophe (').\n",
        "So we have to use the following pattern:\n",
        "r'[^\\w\\s\\']'"
      ],
      "metadata": {
        "id": "RXQZK7G4jDw4"
      }
    },
    {
      "cell_type": "code",
      "source": [
        "df_final['lyrics'] = df_final['lyrics'].apply(lambda x: re.sub(r'[^\\w\\s\\']', ' ', x))"
      ],
      "metadata": {
        "id": "rIz4pPGxjGD-"
      },
      "execution_count": 48,
      "outputs": []
    },
    {
      "cell_type": "code",
      "source": [
        "df_final.head()"
      ],
      "metadata": {
        "id": "-q5WbBeUjJtj",
        "outputId": "d3042571-57b1-4a1c-985c-d073c27a6762",
        "colab": {
          "base_uri": "https://localhost:8080/",
          "height": 317
        }
      },
      "execution_count": 49,
      "outputs": [
        {
          "output_type": "execute_result",
          "data": {
            "text/plain": [
              "    popularity  duration_ms  danceability  energy  loudness  speechiness  \\\n",
              "2           36       295909         0.437   0.607    -5.704       0.0428   \n",
              "11          49       149973         0.578   0.295   -10.379       0.0294   \n",
              "12          66       310346         0.423   0.954    -3.157       0.0470   \n",
              "20          57       238373         0.480   0.970    -5.006       0.0595   \n",
              "25          13       158773         0.478   0.303    -9.352       0.0275   \n",
              "\n",
              "    acousticness  instrumentalness  liveness  valence  ...  \\\n",
              "2       0.332000             0.000    0.1420    0.275  ...   \n",
              "11      0.792000             0.000    0.1090    0.603  ...   \n",
              "12      0.002100             0.000    0.1770    0.500  ...   \n",
              "20      0.000037             0.309    0.2900    0.346  ...   \n",
              "25      0.497000             0.000    0.0855    0.830  ...   \n",
              "\n",
              "    track_genre_techno track_genre_trance  track_genre_trip-hop  \\\n",
              "2                    0                  0                     0   \n",
              "11                   0                  0                     0   \n",
              "12                   0                  0                     0   \n",
              "20                   0                  0                     0   \n",
              "25                   0                  0                     0   \n",
              "\n",
              "    track_genre_turkish  track_genre_world-music  time_signature_0  \\\n",
              "2                     0                        0                 0   \n",
              "11                    0                        0                 0   \n",
              "12                    0                        0                 0   \n",
              "20                    0                        0                 0   \n",
              "25                    0                        0                 0   \n",
              "\n",
              "    time_signature_1  time_signature_3  time_signature_4  time_signature_5  \n",
              "2                  0                 0                 1                 0  \n",
              "11                 0                 0                 1                 0  \n",
              "12                 0                 0                 1                 0  \n",
              "20                 0                 0                 1                 0  \n",
              "25                 0                 0                 1                 0  \n",
              "\n",
              "[5 rows x 147 columns]"
            ],
            "text/html": [
              "\n",
              "  <div id=\"df-1af1ab41-3bd9-442d-b125-438821d3f3c3\">\n",
              "    <div class=\"colab-df-container\">\n",
              "      <div>\n",
              "<style scoped>\n",
              "    .dataframe tbody tr th:only-of-type {\n",
              "        vertical-align: middle;\n",
              "    }\n",
              "\n",
              "    .dataframe tbody tr th {\n",
              "        vertical-align: top;\n",
              "    }\n",
              "\n",
              "    .dataframe thead th {\n",
              "        text-align: right;\n",
              "    }\n",
              "</style>\n",
              "<table border=\"1\" class=\"dataframe\">\n",
              "  <thead>\n",
              "    <tr style=\"text-align: right;\">\n",
              "      <th></th>\n",
              "      <th>popularity</th>\n",
              "      <th>duration_ms</th>\n",
              "      <th>danceability</th>\n",
              "      <th>energy</th>\n",
              "      <th>loudness</th>\n",
              "      <th>speechiness</th>\n",
              "      <th>acousticness</th>\n",
              "      <th>instrumentalness</th>\n",
              "      <th>liveness</th>\n",
              "      <th>valence</th>\n",
              "      <th>...</th>\n",
              "      <th>track_genre_techno</th>\n",
              "      <th>track_genre_trance</th>\n",
              "      <th>track_genre_trip-hop</th>\n",
              "      <th>track_genre_turkish</th>\n",
              "      <th>track_genre_world-music</th>\n",
              "      <th>time_signature_0</th>\n",
              "      <th>time_signature_1</th>\n",
              "      <th>time_signature_3</th>\n",
              "      <th>time_signature_4</th>\n",
              "      <th>time_signature_5</th>\n",
              "    </tr>\n",
              "  </thead>\n",
              "  <tbody>\n",
              "    <tr>\n",
              "      <th>2</th>\n",
              "      <td>36</td>\n",
              "      <td>295909</td>\n",
              "      <td>0.437</td>\n",
              "      <td>0.607</td>\n",
              "      <td>-5.704</td>\n",
              "      <td>0.0428</td>\n",
              "      <td>0.332000</td>\n",
              "      <td>0.000</td>\n",
              "      <td>0.1420</td>\n",
              "      <td>0.275</td>\n",
              "      <td>...</td>\n",
              "      <td>0</td>\n",
              "      <td>0</td>\n",
              "      <td>0</td>\n",
              "      <td>0</td>\n",
              "      <td>0</td>\n",
              "      <td>0</td>\n",
              "      <td>0</td>\n",
              "      <td>0</td>\n",
              "      <td>1</td>\n",
              "      <td>0</td>\n",
              "    </tr>\n",
              "    <tr>\n",
              "      <th>11</th>\n",
              "      <td>49</td>\n",
              "      <td>149973</td>\n",
              "      <td>0.578</td>\n",
              "      <td>0.295</td>\n",
              "      <td>-10.379</td>\n",
              "      <td>0.0294</td>\n",
              "      <td>0.792000</td>\n",
              "      <td>0.000</td>\n",
              "      <td>0.1090</td>\n",
              "      <td>0.603</td>\n",
              "      <td>...</td>\n",
              "      <td>0</td>\n",
              "      <td>0</td>\n",
              "      <td>0</td>\n",
              "      <td>0</td>\n",
              "      <td>0</td>\n",
              "      <td>0</td>\n",
              "      <td>0</td>\n",
              "      <td>0</td>\n",
              "      <td>1</td>\n",
              "      <td>0</td>\n",
              "    </tr>\n",
              "    <tr>\n",
              "      <th>12</th>\n",
              "      <td>66</td>\n",
              "      <td>310346</td>\n",
              "      <td>0.423</td>\n",
              "      <td>0.954</td>\n",
              "      <td>-3.157</td>\n",
              "      <td>0.0470</td>\n",
              "      <td>0.002100</td>\n",
              "      <td>0.000</td>\n",
              "      <td>0.1770</td>\n",
              "      <td>0.500</td>\n",
              "      <td>...</td>\n",
              "      <td>0</td>\n",
              "      <td>0</td>\n",
              "      <td>0</td>\n",
              "      <td>0</td>\n",
              "      <td>0</td>\n",
              "      <td>0</td>\n",
              "      <td>0</td>\n",
              "      <td>0</td>\n",
              "      <td>1</td>\n",
              "      <td>0</td>\n",
              "    </tr>\n",
              "    <tr>\n",
              "      <th>20</th>\n",
              "      <td>57</td>\n",
              "      <td>238373</td>\n",
              "      <td>0.480</td>\n",
              "      <td>0.970</td>\n",
              "      <td>-5.006</td>\n",
              "      <td>0.0595</td>\n",
              "      <td>0.000037</td>\n",
              "      <td>0.309</td>\n",
              "      <td>0.2900</td>\n",
              "      <td>0.346</td>\n",
              "      <td>...</td>\n",
              "      <td>0</td>\n",
              "      <td>0</td>\n",
              "      <td>0</td>\n",
              "      <td>0</td>\n",
              "      <td>0</td>\n",
              "      <td>0</td>\n",
              "      <td>0</td>\n",
              "      <td>0</td>\n",
              "      <td>1</td>\n",
              "      <td>0</td>\n",
              "    </tr>\n",
              "    <tr>\n",
              "      <th>25</th>\n",
              "      <td>13</td>\n",
              "      <td>158773</td>\n",
              "      <td>0.478</td>\n",
              "      <td>0.303</td>\n",
              "      <td>-9.352</td>\n",
              "      <td>0.0275</td>\n",
              "      <td>0.497000</td>\n",
              "      <td>0.000</td>\n",
              "      <td>0.0855</td>\n",
              "      <td>0.830</td>\n",
              "      <td>...</td>\n",
              "      <td>0</td>\n",
              "      <td>0</td>\n",
              "      <td>0</td>\n",
              "      <td>0</td>\n",
              "      <td>0</td>\n",
              "      <td>0</td>\n",
              "      <td>0</td>\n",
              "      <td>0</td>\n",
              "      <td>1</td>\n",
              "      <td>0</td>\n",
              "    </tr>\n",
              "  </tbody>\n",
              "</table>\n",
              "<p>5 rows × 147 columns</p>\n",
              "</div>\n",
              "      <button class=\"colab-df-convert\" onclick=\"convertToInteractive('df-1af1ab41-3bd9-442d-b125-438821d3f3c3')\"\n",
              "              title=\"Convert this dataframe to an interactive table.\"\n",
              "              style=\"display:none;\">\n",
              "        \n",
              "  <svg xmlns=\"http://www.w3.org/2000/svg\" height=\"24px\"viewBox=\"0 0 24 24\"\n",
              "       width=\"24px\">\n",
              "    <path d=\"M0 0h24v24H0V0z\" fill=\"none\"/>\n",
              "    <path d=\"M18.56 5.44l.94 2.06.94-2.06 2.06-.94-2.06-.94-.94-2.06-.94 2.06-2.06.94zm-11 1L8.5 8.5l.94-2.06 2.06-.94-2.06-.94L8.5 2.5l-.94 2.06-2.06.94zm10 10l.94 2.06.94-2.06 2.06-.94-2.06-.94-.94-2.06-.94 2.06-2.06.94z\"/><path d=\"M17.41 7.96l-1.37-1.37c-.4-.4-.92-.59-1.43-.59-.52 0-1.04.2-1.43.59L10.3 9.45l-7.72 7.72c-.78.78-.78 2.05 0 2.83L4 21.41c.39.39.9.59 1.41.59.51 0 1.02-.2 1.41-.59l7.78-7.78 2.81-2.81c.8-.78.8-2.07 0-2.86zM5.41 20L4 18.59l7.72-7.72 1.47 1.35L5.41 20z\"/>\n",
              "  </svg>\n",
              "      </button>\n",
              "      \n",
              "  <style>\n",
              "    .colab-df-container {\n",
              "      display:flex;\n",
              "      flex-wrap:wrap;\n",
              "      gap: 12px;\n",
              "    }\n",
              "\n",
              "    .colab-df-convert {\n",
              "      background-color: #E8F0FE;\n",
              "      border: none;\n",
              "      border-radius: 50%;\n",
              "      cursor: pointer;\n",
              "      display: none;\n",
              "      fill: #1967D2;\n",
              "      height: 32px;\n",
              "      padding: 0 0 0 0;\n",
              "      width: 32px;\n",
              "    }\n",
              "\n",
              "    .colab-df-convert:hover {\n",
              "      background-color: #E2EBFA;\n",
              "      box-shadow: 0px 1px 2px rgba(60, 64, 67, 0.3), 0px 1px 3px 1px rgba(60, 64, 67, 0.15);\n",
              "      fill: #174EA6;\n",
              "    }\n",
              "\n",
              "    [theme=dark] .colab-df-convert {\n",
              "      background-color: #3B4455;\n",
              "      fill: #D2E3FC;\n",
              "    }\n",
              "\n",
              "    [theme=dark] .colab-df-convert:hover {\n",
              "      background-color: #434B5C;\n",
              "      box-shadow: 0px 1px 3px 1px rgba(0, 0, 0, 0.15);\n",
              "      filter: drop-shadow(0px 1px 2px rgba(0, 0, 0, 0.3));\n",
              "      fill: #FFFFFF;\n",
              "    }\n",
              "  </style>\n",
              "\n",
              "      <script>\n",
              "        const buttonEl =\n",
              "          document.querySelector('#df-1af1ab41-3bd9-442d-b125-438821d3f3c3 button.colab-df-convert');\n",
              "        buttonEl.style.display =\n",
              "          google.colab.kernel.accessAllowed ? 'block' : 'none';\n",
              "\n",
              "        async function convertToInteractive(key) {\n",
              "          const element = document.querySelector('#df-1af1ab41-3bd9-442d-b125-438821d3f3c3');\n",
              "          const dataTable =\n",
              "            await google.colab.kernel.invokeFunction('convertToInteractive',\n",
              "                                                     [key], {});\n",
              "          if (!dataTable) return;\n",
              "\n",
              "          const docLinkHtml = 'Like what you see? Visit the ' +\n",
              "            '<a target=\"_blank\" href=https://colab.research.google.com/notebooks/data_table.ipynb>data table notebook</a>'\n",
              "            + ' to learn more about interactive tables.';\n",
              "          element.innerHTML = '';\n",
              "          dataTable['output_type'] = 'display_data';\n",
              "          await google.colab.output.renderOutput(dataTable, element);\n",
              "          const docLink = document.createElement('div');\n",
              "          docLink.innerHTML = docLinkHtml;\n",
              "          element.appendChild(docLink);\n",
              "        }\n",
              "      </script>\n",
              "    </div>\n",
              "  </div>\n",
              "  "
            ]
          },
          "metadata": {},
          "execution_count": 49
        }
      ]
    },
    {
      "cell_type": "markdown",
      "source": [
        "Now we are ready for further analysis. So we export our final dataset:"
      ],
      "metadata": {
        "id": "UVgEH0x8jMqI"
      }
    },
    {
      "cell_type": "code",
      "source": [
        "df_final.to_csv('df_final.csv')"
      ],
      "metadata": {
        "id": "W-dDI580jOeg"
      },
      "execution_count": 50,
      "outputs": []
    }
  ]
}